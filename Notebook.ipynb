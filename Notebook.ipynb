{
 "cells": [
  {
   "cell_type": "markdown",
   "metadata": {},
   "source": [
    "# EDA"
   ]
  },
  {
   "cell_type": "code",
   "execution_count": 188,
   "metadata": {},
   "outputs": [],
   "source": [
    "import pandas as pd "
   ]
  },
  {
   "cell_type": "code",
   "execution_count": 189,
   "metadata": {},
   "outputs": [],
   "source": [
    "train = pd.read_csv('train.csv')\n",
    "test = pd.read_csv('test.csv')\n",
    "training=pd.read_csv('training.csv')"
   ]
  },
  {
   "cell_type": "code",
   "execution_count": 190,
   "metadata": {},
   "outputs": [
    {
     "data": {
      "text/html": [
       "<div>\n",
       "<style scoped>\n",
       "    .dataframe tbody tr th:only-of-type {\n",
       "        vertical-align: middle;\n",
       "    }\n",
       "\n",
       "    .dataframe tbody tr th {\n",
       "        vertical-align: top;\n",
       "    }\n",
       "\n",
       "    .dataframe thead th {\n",
       "        text-align: right;\n",
       "    }\n",
       "</style>\n",
       "<table border=\"1\" class=\"dataframe\">\n",
       "  <thead>\n",
       "    <tr style=\"text-align: right;\">\n",
       "      <th></th>\n",
       "      <th>TweetId</th>\n",
       "      <th>Label</th>\n",
       "      <th>TweetText</th>\n",
       "    </tr>\n",
       "  </thead>\n",
       "  <tbody>\n",
       "    <tr>\n",
       "      <th>0</th>\n",
       "      <td>304271250237304833</td>\n",
       "      <td>Politics</td>\n",
       "      <td>'#SecKerry: The value of the @StateDept and @U...</td>\n",
       "    </tr>\n",
       "    <tr>\n",
       "      <th>1</th>\n",
       "      <td>304834304222064640</td>\n",
       "      <td>Politics</td>\n",
       "      <td>'@rraina1481 I fear so'</td>\n",
       "    </tr>\n",
       "    <tr>\n",
       "      <th>2</th>\n",
       "      <td>303568995880144898</td>\n",
       "      <td>Sports</td>\n",
       "      <td>'Watch video highlights of the #wwc13 final be...</td>\n",
       "    </tr>\n",
       "    <tr>\n",
       "      <th>3</th>\n",
       "      <td>304366580664528896</td>\n",
       "      <td>Sports</td>\n",
       "      <td>'RT @chelscanlan: At Nitro Circus at #AlbertPa...</td>\n",
       "    </tr>\n",
       "    <tr>\n",
       "      <th>4</th>\n",
       "      <td>296770931098009601</td>\n",
       "      <td>Sports</td>\n",
       "      <td>'@cricketfox Always a good thing. Thanks for t...</td>\n",
       "    </tr>\n",
       "  </tbody>\n",
       "</table>\n",
       "</div>"
      ],
      "text/plain": [
       "              TweetId     Label  \\\n",
       "0  304271250237304833  Politics   \n",
       "1  304834304222064640  Politics   \n",
       "2  303568995880144898    Sports   \n",
       "3  304366580664528896    Sports   \n",
       "4  296770931098009601    Sports   \n",
       "\n",
       "                                           TweetText  \n",
       "0  '#SecKerry: The value of the @StateDept and @U...  \n",
       "1                            '@rraina1481 I fear so'  \n",
       "2  'Watch video highlights of the #wwc13 final be...  \n",
       "3  'RT @chelscanlan: At Nitro Circus at #AlbertPa...  \n",
       "4  '@cricketfox Always a good thing. Thanks for t...  "
      ]
     },
     "execution_count": 190,
     "metadata": {},
     "output_type": "execute_result"
    }
   ],
   "source": [
    "train.head()"
   ]
  },
  {
   "cell_type": "code",
   "execution_count": 191,
   "metadata": {},
   "outputs": [
    {
     "data": {
      "text/plain": [
       "TweetId      0\n",
       "Label        0\n",
       "TweetText    0\n",
       "dtype: int64"
      ]
     },
     "execution_count": 191,
     "metadata": {},
     "output_type": "execute_result"
    }
   ],
   "source": [
    "train.isnull().sum()"
   ]
  },
  {
   "cell_type": "code",
   "execution_count": 192,
   "metadata": {},
   "outputs": [
    {
     "data": {
      "text/plain": [
       "TweetId      0\n",
       "TweetText    0\n",
       "dtype: int64"
      ]
     },
     "execution_count": 192,
     "metadata": {},
     "output_type": "execute_result"
    }
   ],
   "source": [
    "test.isnull().sum()"
   ]
  },
  {
   "cell_type": "code",
   "execution_count": 193,
   "metadata": {},
   "outputs": [
    {
     "data": {
      "text/plain": [
       "Sports      3325\n",
       "Politics    3200\n",
       "Name: Label, dtype: int64"
      ]
     },
     "execution_count": 193,
     "metadata": {},
     "output_type": "execute_result"
    }
   ],
   "source": [
    "train['Label'].value_counts()"
   ]
  },
  {
   "cell_type": "code",
   "execution_count": 194,
   "metadata": {},
   "outputs": [
    {
     "data": {
      "text/plain": [
       "<Axes: xlabel='Label', ylabel='count'>"
      ]
     },
     "execution_count": 194,
     "metadata": {},
     "output_type": "execute_result"
    },
    {
     "data": {
      "image/png": "[encoded data removed]",
      "text/plain": [
       "<Figure size 640x480 with 1 Axes>"
      ]
     },
     "metadata": {},
     "output_type": "display_data"
    }
   ],
   "source": [
    "sns.countplot(x=\"Label\",data =train, palette=[\"#FF5733\", \"#3399FF\", \"#33FF7A\"])"
   ]
  },
  {
   "cell_type": "code",
   "execution_count": 195,
   "metadata": {},
   "outputs": [
    {
     "data": {
      "text/plain": [
       "(6525, 3)"
      ]
     },
     "execution_count": 195,
     "metadata": {},
     "output_type": "execute_result"
    }
   ],
   "source": [
    "train.shape"
   ]
  },
  {
   "cell_type": "code",
   "execution_count": 196,
   "metadata": {},
   "outputs": [
    {
     "name": "stderr",
     "output_type": "stream",
     "text": [
      "/var/folders/jg/pktw8l5s32xgj2428mt_gdxr0000gn/T/ipykernel_2388/2622648598.py:2: FutureWarning: The default value of regex will change from True to False in a future version. In addition, single character regular expressions will *not* be treated as literal strings when regex=True.\n",
      "  train['TweetText'] = train['TweetText'].str.replace('.', '') # remove . from string in list of strings in train\n",
      "/var/folders/jg/pktw8l5s32xgj2428mt_gdxr0000gn/T/ipykernel_2388/2622648598.py:4: FutureWarning: The default value of regex will change from True to False in a future version. In addition, single character regular expressions will *not* be treated as literal strings when regex=True.\n",
      "  train['TweetText'] = train['TweetText'].str.replace('?', '')\n",
      "/var/folders/jg/pktw8l5s32xgj2428mt_gdxr0000gn/T/ipykernel_2388/2622648598.py:5: FutureWarning: The default value of regex will change from True to False in a future version. In addition, single character regular expressions will *not* be treated as literal strings when regex=True.\n",
      "  train['TweetText'] = train['TweetText'].str.replace('(', '')\n",
      "/var/folders/jg/pktw8l5s32xgj2428mt_gdxr0000gn/T/ipykernel_2388/2622648598.py:6: FutureWarning: The default value of regex will change from True to False in a future version. In addition, single character regular expressions will *not* be treated as literal strings when regex=True.\n",
      "  train['TweetText'] = train['TweetText'].str.replace(')', '')\n"
     ]
    }
   ],
   "source": [
    "def clean_column(train):\n",
    "    train['TweetText'] = train['TweetText'].str.replace('.', '') # remove . from string in list of strings in train \n",
    "    train['TweetText'] = train['TweetText'].str.replace('!', '')\n",
    "    train['TweetText'] = train['TweetText'].str.replace('?', '')\n",
    "    train['TweetText'] = train['TweetText'].str.replace('(', '')\n",
    "    train['TweetText'] = train['TweetText'].str.replace(')', '')\n",
    "    train['TweetText'] = train['TweetText'].str.replace('-', '')\n",
    "clean_column(train)"
   ]
  },
  {
   "cell_type": "code",
   "execution_count": 197,
   "metadata": {},
   "outputs": [],
   "source": [
    "# Cleaning the tweets \n",
    "import re\n",
    "def cleanTxt(text):\n",
    "    text=re.sub('@[A-Za-z0–9]+','',text) #Removing @mentions\n",
    "    text=re.sub('#', '', text) # Removing '#' hash tag\n",
    "    text=re.sub('RT[\\s]+', '', text) # Removing RT\n",
    "    text=re.sub('https?:\\/\\/\\S+', '', text) # Removing hyperlink\n",
    "    text=re.sub(':', '', text)\n",
    "    text=re.sub(\"'\", '', text)\n",
    "    text=re.sub(\",\", '', text)\n",
    "    text=re.sub(\";\", '', text)\n",
    "    text=re.sub(\"&\", '', text)\n",
    "    text=re.sub(\"``\", '', text)\n",
    "    text=re.sub('\"', '', text)\n",
    "    return text\n",
    "train['TweetText']=train['TweetText'].apply(cleanTxt)"
   ]
  },
  {
   "cell_type": "code",
   "execution_count": 198,
   "metadata": {},
   "outputs": [
    {
     "data": {
      "text/html": [
       "<div>\n",
       "<style scoped>\n",
       "    .dataframe tbody tr th:only-of-type {\n",
       "        vertical-align: middle;\n",
       "    }\n",
       "\n",
       "    .dataframe tbody tr th {\n",
       "        vertical-align: top;\n",
       "    }\n",
       "\n",
       "    .dataframe thead th {\n",
       "        text-align: right;\n",
       "    }\n",
       "</style>\n",
       "<table border=\"1\" class=\"dataframe\">\n",
       "  <thead>\n",
       "    <tr style=\"text-align: right;\">\n",
       "      <th></th>\n",
       "      <th>TweetId</th>\n",
       "      <th>Label</th>\n",
       "      <th>TweetText</th>\n",
       "    </tr>\n",
       "  </thead>\n",
       "  <tbody>\n",
       "    <tr>\n",
       "      <th>0</th>\n",
       "      <td>304271250237304833</td>\n",
       "      <td>Politics</td>\n",
       "      <td>SecKerry The value of the  and  is measured no...</td>\n",
       "    </tr>\n",
       "    <tr>\n",
       "      <th>1</th>\n",
       "      <td>304834304222064640</td>\n",
       "      <td>Politics</td>\n",
       "      <td>1481 I fear so</td>\n",
       "    </tr>\n",
       "    <tr>\n",
       "      <th>2</th>\n",
       "      <td>303568995880144898</td>\n",
       "      <td>Sports</td>\n",
       "      <td>Watch video highlights of the wwc13 final betw...</td>\n",
       "    </tr>\n",
       "    <tr>\n",
       "      <th>3</th>\n",
       "      <td>304366580664528896</td>\n",
       "      <td>Sports</td>\n",
       "      <td>At Nitro Circus at AlbertPark  theymakeitlook...</td>\n",
       "    </tr>\n",
       "    <tr>\n",
       "      <th>4</th>\n",
       "      <td>296770931098009601</td>\n",
       "      <td>Sports</td>\n",
       "      <td>Always a good thing Thanks for the feedback</td>\n",
       "    </tr>\n",
       "  </tbody>\n",
       "</table>\n",
       "</div>"
      ],
      "text/plain": [
       "              TweetId     Label  \\\n",
       "0  304271250237304833  Politics   \n",
       "1  304834304222064640  Politics   \n",
       "2  303568995880144898    Sports   \n",
       "3  304366580664528896    Sports   \n",
       "4  296770931098009601    Sports   \n",
       "\n",
       "                                           TweetText  \n",
       "0  SecKerry The value of the  and  is measured no...  \n",
       "1                                     1481 I fear so  \n",
       "2  Watch video highlights of the wwc13 final betw...  \n",
       "3   At Nitro Circus at AlbertPark  theymakeitlook...  \n",
       "4       Always a good thing Thanks for the feedback   "
      ]
     },
     "execution_count": 198,
     "metadata": {},
     "output_type": "execute_result"
    }
   ],
   "source": [
    "train.head()"
   ]
  },
  {
   "cell_type": "code",
   "execution_count": 199,
   "metadata": {},
   "outputs": [
    {
     "name": "stderr",
     "output_type": "stream",
     "text": [
      "[nltk_data] Downloading package punkt to\n",
      "[nltk_data]     /Users/aithassouneyouness/nltk_data...\n",
      "[nltk_data]   Package punkt is already up-to-date!\n"
     ]
    },
    {
     "data": {
      "text/plain": [
       "True"
      ]
     },
     "execution_count": 199,
     "metadata": {},
     "output_type": "execute_result"
    }
   ],
   "source": [
    "import nltk\n",
    "nltk.download('punkt')"
   ]
  },
  {
   "cell_type": "code",
   "execution_count": 200,
   "metadata": {},
   "outputs": [],
   "source": [
    "#tokenization\n",
    "train['TweetText'] = train['TweetText'].apply(nltk.word_tokenize)"
   ]
  },
  {
   "cell_type": "code",
   "execution_count": 201,
   "metadata": {},
   "outputs": [
    {
     "data": {
      "text/html": [
       "<div>\n",
       "<style scoped>\n",
       "    .dataframe tbody tr th:only-of-type {\n",
       "        vertical-align: middle;\n",
       "    }\n",
       "\n",
       "    .dataframe tbody tr th {\n",
       "        vertical-align: top;\n",
       "    }\n",
       "\n",
       "    .dataframe thead th {\n",
       "        text-align: right;\n",
       "    }\n",
       "</style>\n",
       "<table border=\"1\" class=\"dataframe\">\n",
       "  <thead>\n",
       "    <tr style=\"text-align: right;\">\n",
       "      <th></th>\n",
       "      <th>TweetId</th>\n",
       "      <th>Label</th>\n",
       "      <th>TweetText</th>\n",
       "    </tr>\n",
       "  </thead>\n",
       "  <tbody>\n",
       "    <tr>\n",
       "      <th>0</th>\n",
       "      <td>304271250237304833</td>\n",
       "      <td>Politics</td>\n",
       "      <td>[SecKerry, The, value, of, the, and, is, measu...</td>\n",
       "    </tr>\n",
       "    <tr>\n",
       "      <th>1</th>\n",
       "      <td>304834304222064640</td>\n",
       "      <td>Politics</td>\n",
       "      <td>[1481, I, fear, so]</td>\n",
       "    </tr>\n",
       "    <tr>\n",
       "      <th>2</th>\n",
       "      <td>303568995880144898</td>\n",
       "      <td>Sports</td>\n",
       "      <td>[Watch, video, highlights, of, the, wwc13, fin...</td>\n",
       "    </tr>\n",
       "    <tr>\n",
       "      <th>3</th>\n",
       "      <td>304366580664528896</td>\n",
       "      <td>Sports</td>\n",
       "      <td>[At, Nitro, Circus, at, AlbertPark, theymakeit...</td>\n",
       "    </tr>\n",
       "    <tr>\n",
       "      <th>4</th>\n",
       "      <td>296770931098009601</td>\n",
       "      <td>Sports</td>\n",
       "      <td>[Always, a, good, thing, Thanks, for, the, fee...</td>\n",
       "    </tr>\n",
       "  </tbody>\n",
       "</table>\n",
       "</div>"
      ],
      "text/plain": [
       "              TweetId     Label  \\\n",
       "0  304271250237304833  Politics   \n",
       "1  304834304222064640  Politics   \n",
       "2  303568995880144898    Sports   \n",
       "3  304366580664528896    Sports   \n",
       "4  296770931098009601    Sports   \n",
       "\n",
       "                                           TweetText  \n",
       "0  [SecKerry, The, value, of, the, and, is, measu...  \n",
       "1                                [1481, I, fear, so]  \n",
       "2  [Watch, video, highlights, of, the, wwc13, fin...  \n",
       "3  [At, Nitro, Circus, at, AlbertPark, theymakeit...  \n",
       "4  [Always, a, good, thing, Thanks, for, the, fee...  "
      ]
     },
     "execution_count": 201,
     "metadata": {},
     "output_type": "execute_result"
    }
   ],
   "source": [
    "train.head()"
   ]
  },
  {
   "cell_type": "code",
   "execution_count": 202,
   "metadata": {},
   "outputs": [
    {
     "data": {
      "text/plain": [
       "\"def tolist(x):\\n    return x.split(' ')\\ntrain['TweetText']=train['TweetText'].apply(tolist)\\ntrain['TweetText'].astype(str)\""
      ]
     },
     "execution_count": 202,
     "metadata": {},
     "output_type": "execute_result"
    }
   ],
   "source": [
    "\"\"\"def tolist(x):\n",
    "    return x.split(' ')\n",
    "train['TweetText']=train['TweetText'].apply(tolist)\n",
    "train['TweetText'].astype(str)\"\"\""
   ]
  },
  {
   "cell_type": "code",
   "execution_count": 203,
   "metadata": {},
   "outputs": [],
   "source": [
    "#remove null strings \n",
    "def remove_empty(x):\n",
    "    return [item for item in x if item != '']\n",
    "train['TweetText']=train['TweetText'].apply(remove_empty)\n",
    "\n"
   ]
  },
  {
   "cell_type": "code",
   "execution_count": 204,
   "metadata": {},
   "outputs": [
    {
     "data": {
      "text/html": [
       "<div>\n",
       "<style scoped>\n",
       "    .dataframe tbody tr th:only-of-type {\n",
       "        vertical-align: middle;\n",
       "    }\n",
       "\n",
       "    .dataframe tbody tr th {\n",
       "        vertical-align: top;\n",
       "    }\n",
       "\n",
       "    .dataframe thead th {\n",
       "        text-align: right;\n",
       "    }\n",
       "</style>\n",
       "<table border=\"1\" class=\"dataframe\">\n",
       "  <thead>\n",
       "    <tr style=\"text-align: right;\">\n",
       "      <th></th>\n",
       "      <th>TweetId</th>\n",
       "      <th>Label</th>\n",
       "      <th>TweetText</th>\n",
       "    </tr>\n",
       "  </thead>\n",
       "  <tbody>\n",
       "    <tr>\n",
       "      <th>0</th>\n",
       "      <td>304271250237304833</td>\n",
       "      <td>Politics</td>\n",
       "      <td>[SecKerry, The, value, of, the, and, is, measu...</td>\n",
       "    </tr>\n",
       "    <tr>\n",
       "      <th>1</th>\n",
       "      <td>304834304222064640</td>\n",
       "      <td>Politics</td>\n",
       "      <td>[1481, I, fear, so]</td>\n",
       "    </tr>\n",
       "    <tr>\n",
       "      <th>2</th>\n",
       "      <td>303568995880144898</td>\n",
       "      <td>Sports</td>\n",
       "      <td>[Watch, video, highlights, of, the, wwc13, fin...</td>\n",
       "    </tr>\n",
       "    <tr>\n",
       "      <th>3</th>\n",
       "      <td>304366580664528896</td>\n",
       "      <td>Sports</td>\n",
       "      <td>[At, Nitro, Circus, at, AlbertPark, theymakeit...</td>\n",
       "    </tr>\n",
       "    <tr>\n",
       "      <th>4</th>\n",
       "      <td>296770931098009601</td>\n",
       "      <td>Sports</td>\n",
       "      <td>[Always, a, good, thing, Thanks, for, the, fee...</td>\n",
       "    </tr>\n",
       "  </tbody>\n",
       "</table>\n",
       "</div>"
      ],
      "text/plain": [
       "              TweetId     Label  \\\n",
       "0  304271250237304833  Politics   \n",
       "1  304834304222064640  Politics   \n",
       "2  303568995880144898    Sports   \n",
       "3  304366580664528896    Sports   \n",
       "4  296770931098009601    Sports   \n",
       "\n",
       "                                           TweetText  \n",
       "0  [SecKerry, The, value, of, the, and, is, measu...  \n",
       "1                                [1481, I, fear, so]  \n",
       "2  [Watch, video, highlights, of, the, wwc13, fin...  \n",
       "3  [At, Nitro, Circus, at, AlbertPark, theymakeit...  \n",
       "4  [Always, a, good, thing, Thanks, for, the, fee...  "
      ]
     },
     "execution_count": 204,
     "metadata": {},
     "output_type": "execute_result"
    }
   ],
   "source": [
    "train.head()"
   ]
  },
  {
   "cell_type": "code",
   "execution_count": 205,
   "metadata": {},
   "outputs": [
    {
     "name": "stderr",
     "output_type": "stream",
     "text": [
      "/var/folders/jg/pktw8l5s32xgj2428mt_gdxr0000gn/T/ipykernel_2388/1933219485.py:4: SettingWithCopyWarning: \n",
      "A value is trying to be set on a copy of a slice from a DataFrame\n",
      "\n",
      "See the caveats in the documentation: https://pandas.pydata.org/pandas-docs/stable/user_guide/indexing.html#returning-a-view-versus-a-copy\n",
      "  data['TweetText'][i] = [x.lower() for x in data['TweetText'][i]]\n"
     ]
    },
    {
     "data": {
      "text/html": [
       "<div>\n",
       "<style scoped>\n",
       "    .dataframe tbody tr th:only-of-type {\n",
       "        vertical-align: middle;\n",
       "    }\n",
       "\n",
       "    .dataframe tbody tr th {\n",
       "        vertical-align: top;\n",
       "    }\n",
       "\n",
       "    .dataframe thead th {\n",
       "        text-align: right;\n",
       "    }\n",
       "</style>\n",
       "<table border=\"1\" class=\"dataframe\">\n",
       "  <thead>\n",
       "    <tr style=\"text-align: right;\">\n",
       "      <th></th>\n",
       "      <th>TweetId</th>\n",
       "      <th>Label</th>\n",
       "      <th>TweetText</th>\n",
       "    </tr>\n",
       "  </thead>\n",
       "  <tbody>\n",
       "    <tr>\n",
       "      <th>0</th>\n",
       "      <td>304271250237304833</td>\n",
       "      <td>Politics</td>\n",
       "      <td>[seckerry, the, value, of, the, and, is, measu...</td>\n",
       "    </tr>\n",
       "    <tr>\n",
       "      <th>1</th>\n",
       "      <td>304834304222064640</td>\n",
       "      <td>Politics</td>\n",
       "      <td>[1481, i, fear, so]</td>\n",
       "    </tr>\n",
       "    <tr>\n",
       "      <th>2</th>\n",
       "      <td>303568995880144898</td>\n",
       "      <td>Sports</td>\n",
       "      <td>[watch, video, highlights, of, the, wwc13, fin...</td>\n",
       "    </tr>\n",
       "    <tr>\n",
       "      <th>3</th>\n",
       "      <td>304366580664528896</td>\n",
       "      <td>Sports</td>\n",
       "      <td>[at, nitro, circus, at, albertpark, theymakeit...</td>\n",
       "    </tr>\n",
       "    <tr>\n",
       "      <th>4</th>\n",
       "      <td>296770931098009601</td>\n",
       "      <td>Sports</td>\n",
       "      <td>[always, a, good, thing, thanks, for, the, fee...</td>\n",
       "    </tr>\n",
       "    <tr>\n",
       "      <th>...</th>\n",
       "      <td>...</td>\n",
       "      <td>...</td>\n",
       "      <td>...</td>\n",
       "    </tr>\n",
       "    <tr>\n",
       "      <th>6520</th>\n",
       "      <td>296675082267410433</td>\n",
       "      <td>Politics</td>\n",
       "      <td>[photo, pm, has, laid, a, wreath, at, martyrs,...</td>\n",
       "    </tr>\n",
       "    <tr>\n",
       "      <th>6521</th>\n",
       "      <td>306677536195231746</td>\n",
       "      <td>Sports</td>\n",
       "      <td>[the, secret, of, the, chennai, pitch, crumbli...</td>\n",
       "    </tr>\n",
       "    <tr>\n",
       "      <th>6522</th>\n",
       "      <td>306451295307431937</td>\n",
       "      <td>Sports</td>\n",
       "      <td>[he, isnt, on, twitter, either]</td>\n",
       "    </tr>\n",
       "    <tr>\n",
       "      <th>6523</th>\n",
       "      <td>306088574221176832</td>\n",
       "      <td>Sports</td>\n",
       "      <td>[which, england, player, would, you, take, out...</td>\n",
       "    </tr>\n",
       "    <tr>\n",
       "      <th>6524</th>\n",
       "      <td>277090953242759169</td>\n",
       "      <td>Politics</td>\n",
       "      <td>[dmitry, medvedev, expressed, condolences, to,...</td>\n",
       "    </tr>\n",
       "  </tbody>\n",
       "</table>\n",
       "<p>6525 rows × 3 columns</p>\n",
       "</div>"
      ],
      "text/plain": [
       "                 TweetId     Label  \\\n",
       "0     304271250237304833  Politics   \n",
       "1     304834304222064640  Politics   \n",
       "2     303568995880144898    Sports   \n",
       "3     304366580664528896    Sports   \n",
       "4     296770931098009601    Sports   \n",
       "...                  ...       ...   \n",
       "6520  296675082267410433  Politics   \n",
       "6521  306677536195231746    Sports   \n",
       "6522  306451295307431937    Sports   \n",
       "6523  306088574221176832    Sports   \n",
       "6524  277090953242759169  Politics   \n",
       "\n",
       "                                              TweetText  \n",
       "0     [seckerry, the, value, of, the, and, is, measu...  \n",
       "1                                   [1481, i, fear, so]  \n",
       "2     [watch, video, highlights, of, the, wwc13, fin...  \n",
       "3     [at, nitro, circus, at, albertpark, theymakeit...  \n",
       "4     [always, a, good, thing, thanks, for, the, fee...  \n",
       "...                                                 ...  \n",
       "6520  [photo, pm, has, laid, a, wreath, at, martyrs,...  \n",
       "6521  [the, secret, of, the, chennai, pitch, crumbli...  \n",
       "6522                    [he, isnt, on, twitter, either]  \n",
       "6523  [which, england, player, would, you, take, out...  \n",
       "6524  [dmitry, medvedev, expressed, condolences, to,...  \n",
       "\n",
       "[6525 rows x 3 columns]"
      ]
     },
     "execution_count": 205,
     "metadata": {},
     "output_type": "execute_result"
    }
   ],
   "source": [
    "# lowercase all words in train\n",
    "def lower_case(data):\n",
    "    for i in range(data.shape[0]) :\n",
    "        data['TweetText'][i] = [x.lower() for x in data['TweetText'][i]]\n",
    "    return data\n",
    "lower_case(train)"
   ]
  },
  {
   "cell_type": "code",
   "execution_count": 206,
   "metadata": {},
   "outputs": [
    {
     "name": "stderr",
     "output_type": "stream",
     "text": [
      "[nltk_data] Downloading package stopwords to\n",
      "[nltk_data]     /Users/aithassouneyouness/nltk_data...\n",
      "[nltk_data]   Package stopwords is already up-to-date!\n"
     ]
    },
    {
     "data": {
      "text/plain": [
       "True"
      ]
     },
     "execution_count": 206,
     "metadata": {},
     "output_type": "execute_result"
    }
   ],
   "source": [
    "from nltk.corpus import stopwords\n",
    "nltk.download('stopwords')"
   ]
  },
  {
   "cell_type": "code",
   "execution_count": 218,
   "metadata": {},
   "outputs": [],
   "source": [
    "# removing stop words and update the weights\n",
    "stop_words = list(stopwords.words('english'))\n",
    "def remove_stopwords(data):\n",
    "    for i in range(data.shape[0]) :\n",
    "        for word in  stop_words:\n",
    "            if word in data['TweetText'][i]:\n",
    "                data['TweetText'][i].remove(word)\n",
    "    '''stop_words = ['a', 'an', 'the','is', 'and', 'or', 'but','the', 'if', 'then', 'thus','&amp;', 'hence','that','are','i','was','as','pm','am', 'so', 'of', 'at', 'by', 'for', 'with', 'about', 'against', 'between', 'into', 'through', 'during', 'before', 'after', 'above', 'below', 'to', 'from', 'up', 'down', 'in', 'out', 'on', 'off', 'over', 'under', 'again', 'further', 'then', 'once', 'here', 'there', 'when', 'where', 'why', 'how', 'all', 'any', 'both', 'each', 'few', 'more', 'most', 'other', 'some', 'such', 'no', 'nor', 'not', 'only', 'own', 'same', 'so', 'than', 'too', 'very', 'can', 'will', 'just', 'don', 'should', 'now','this','to','we','our','have','1st','of','his','has','be','it','you']\n",
    "   '''\n",
    "    return data\n",
    "train = remove_stopwords(train)"
   ]
  },
  {
   "cell_type": "code",
   "execution_count": 238,
   "metadata": {},
   "outputs": [
    {
     "name": "stderr",
     "output_type": "stream",
     "text": [
      "[nltk_data] Downloading package wordnet to\n",
      "[nltk_data]     /Users/aithassouneyouness/nltk_data...\n",
      "[nltk_data]   Package wordnet is already up-to-date!\n"
     ]
    },
    {
     "name": "stdout",
     "output_type": "stream",
     "text": [
      "showing info https://raw.githubusercontent.com/nltk/nltk_data/gh-pages/index.xml\n"
     ]
    },
    {
     "name": "stderr",
     "output_type": "stream",
     "text": [
      "Exception in thread Thread-6:\n",
      "Traceback (most recent call last):\n",
      "  File \"/Users/aithassouneyouness/anaconda3/lib/python3.11/threading.py\", line 1038, in _bootstrap_inner\n",
      "    self.run()\n",
      "  File \"/Users/aithassouneyouness/anaconda3/lib/python3.11/site-packages/nltk/downloader.py\", line 2104, in run\n",
      "    for msg in self.data_server.incr_download(self.items):\n",
      "  File \"/Users/aithassouneyouness/anaconda3/lib/python3.11/site-packages/nltk/downloader.py\", line 624, in incr_download\n",
      "    yield from self._download_list(info_or_id, download_dir, force)\n",
      "  File \"/Users/aithassouneyouness/anaconda3/lib/python3.11/site-packages/nltk/downloader.py\", line 667, in _download_list\n",
      "    for msg in self.incr_download(item, download_dir, force):\n",
      "  File \"/Users/aithassouneyouness/anaconda3/lib/python3.11/site-packages/nltk/downloader.py\", line 637, in incr_download\n",
      "    yield from self.incr_download(info.children, download_dir, force)\n",
      "  File \"/Users/aithassouneyouness/anaconda3/lib/python3.11/site-packages/nltk/downloader.py\", line 624, in incr_download\n",
      "    yield from self._download_list(info_or_id, download_dir, force)\n",
      "  File \"/Users/aithassouneyouness/anaconda3/lib/python3.11/site-packages/nltk/downloader.py\", line 667, in _download_list\n",
      "    for msg in self.incr_download(item, download_dir, force):\n",
      "  File \"/Users/aithassouneyouness/anaconda3/lib/python3.11/site-packages/nltk/downloader.py\", line 642, in incr_download\n",
      "    yield from self._download_package(info, download_dir, force)\n",
      "  File \"/Users/aithassouneyouness/anaconda3/lib/python3.11/site-packages/nltk/downloader.py\", line 735, in _download_package\n",
      "    for msg in _unzip_iter(filepath, zipdir, verbose=False):\n",
      "  File \"/Users/aithassouneyouness/anaconda3/lib/python3.11/site-packages/nltk/downloader.py\", line 2250, in _unzip_iter\n",
      "    zf.extractall(root)\n",
      "  File \"/Users/aithassouneyouness/anaconda3/lib/python3.11/zipfile.py\", line 1679, in extractall\n",
      "    self._extract_member(zipinfo, path, pwd)\n",
      "  File \"/Users/aithassouneyouness/anaconda3/lib/python3.11/zipfile.py\", line 1734, in _extract_member\n",
      "    shutil.copyfileobj(source, target)\n",
      "  File \"/Users/aithassouneyouness/anaconda3/lib/python3.11/shutil.py\", line 200, in copyfileobj\n",
      "    fdst_write(buf)\n",
      "OSError: [Errno 28] No space left on device\n"
     ]
    }
   ],
   "source": [
    "nltk.download('wordnet')\n",
    "nltk.download()"
   ]
  },
  {
   "cell_type": "code",
   "execution_count": null,
   "metadata": {},
   "outputs": [],
   "source": [
    "import nltk\n",
    "nltk.data.path.append(\"/Users/aithassouneyouness/nltk_data\")"
   ]
  },
  {
   "cell_type": "code",
   "execution_count": null,
   "metadata": {},
   "outputs": [
    {
     "ename": "LookupError",
     "evalue": "\n**********************************************************************\n  Resource \u001b[93momw-1.4\u001b[0m not found.\n  Please use the NLTK Downloader to obtain the resource:\n\n  \u001b[31m>>> import nltk\n  >>> nltk.download('omw-1.4')\n  \u001b[0m\n  For more information see: https://www.nltk.org/data.html\n\n  Attempted to load \u001b[93mcorpora/omw-1.4\u001b[0m\n\n  Searched in:\n    - '/Users/aithassouneyouness/nltk_data'\n    - '/Users/aithassouneyouness/anaconda3/nltk_data'\n    - '/Users/aithassouneyouness/anaconda3/share/nltk_data'\n    - '/Users/aithassouneyouness/anaconda3/lib/nltk_data'\n    - '/usr/share/nltk_data'\n    - '/usr/local/share/nltk_data'\n    - '/usr/lib/nltk_data'\n    - '/usr/local/lib/nltk_data'\n**********************************************************************\n",
     "output_type": "error",
     "traceback": [
      "\u001b[0;31m---------------------------------------------------------------------------\u001b[0m",
      "\u001b[0;31mLookupError\u001b[0m                               Traceback (most recent call last)",
      "File \u001b[0;32m~/anaconda3/lib/python3.11/site-packages/nltk/corpus/util.py:84\u001b[0m, in \u001b[0;36mLazyCorpusLoader.__load\u001b[0;34m(self)\u001b[0m\n\u001b[1;32m     <a href='file:///Users/aithassouneyouness/anaconda3/lib/python3.11/site-packages/nltk/corpus/util.py?line=82'>83</a>\u001b[0m \u001b[39mtry\u001b[39;00m:\n\u001b[0;32m---> <a href='file:///Users/aithassouneyouness/anaconda3/lib/python3.11/site-packages/nltk/corpus/util.py?line=83'>84</a>\u001b[0m     root \u001b[39m=\u001b[39m nltk\u001b[39m.\u001b[39mdata\u001b[39m.\u001b[39mfind(\u001b[39mf\u001b[39m\u001b[39m\"\u001b[39m\u001b[39m{\u001b[39;00m\u001b[39mself\u001b[39m\u001b[39m.\u001b[39msubdir\u001b[39m}\u001b[39;00m\u001b[39m/\u001b[39m\u001b[39m{\u001b[39;00mzip_name\u001b[39m}\u001b[39;00m\u001b[39m\"\u001b[39m)\n\u001b[1;32m     <a href='file:///Users/aithassouneyouness/anaconda3/lib/python3.11/site-packages/nltk/corpus/util.py?line=84'>85</a>\u001b[0m \u001b[39mexcept\u001b[39;00m \u001b[39mLookupError\u001b[39;00m:\n",
      "File \u001b[0;32m~/anaconda3/lib/python3.11/site-packages/nltk/data.py:583\u001b[0m, in \u001b[0;36mfind\u001b[0;34m(resource_name, paths)\u001b[0m\n\u001b[1;32m    <a href='file:///Users/aithassouneyouness/anaconda3/lib/python3.11/site-packages/nltk/data.py?line=581'>582</a>\u001b[0m resource_not_found \u001b[39m=\u001b[39m \u001b[39mf\u001b[39m\u001b[39m\"\u001b[39m\u001b[39m\\n\u001b[39;00m\u001b[39m{\u001b[39;00msep\u001b[39m}\u001b[39;00m\u001b[39m\\n\u001b[39;00m\u001b[39m{\u001b[39;00mmsg\u001b[39m}\u001b[39;00m\u001b[39m\\n\u001b[39;00m\u001b[39m{\u001b[39;00msep\u001b[39m}\u001b[39;00m\u001b[39m\\n\u001b[39;00m\u001b[39m\"\u001b[39m\n\u001b[0;32m--> <a href='file:///Users/aithassouneyouness/anaconda3/lib/python3.11/site-packages/nltk/data.py?line=582'>583</a>\u001b[0m \u001b[39mraise\u001b[39;00m \u001b[39mLookupError\u001b[39;00m(resource_not_found)\n",
      "\u001b[0;31mLookupError\u001b[0m: \n**********************************************************************\n  Resource \u001b[93momw-1.4\u001b[0m not found.\n  Please use the NLTK Downloader to obtain the resource:\n\n  \u001b[31m>>> import nltk\n  >>> nltk.download('omw-1.4')\n  \u001b[0m\n  For more information see: https://www.nltk.org/data.html\n\n  Attempted to load \u001b[93mcorpora/omw-1.4.zip/omw-1.4/\u001b[0m\n\n  Searched in:\n    - '/Users/aithassouneyouness/nltk_data'\n    - '/Users/aithassouneyouness/anaconda3/nltk_data'\n    - '/Users/aithassouneyouness/anaconda3/share/nltk_data'\n    - '/Users/aithassouneyouness/anaconda3/lib/nltk_data'\n    - '/usr/share/nltk_data'\n    - '/usr/local/share/nltk_data'\n    - '/usr/lib/nltk_data'\n    - '/usr/local/lib/nltk_data'\n**********************************************************************\n",
      "\nDuring handling of the above exception, another exception occurred:\n",
      "\u001b[0;31mLookupError\u001b[0m                               Traceback (most recent call last)",
      "Cell \u001b[0;32mIn[237], line 17\u001b[0m\n\u001b[1;32m     14\u001b[0m train[\u001b[38;5;124m'\u001b[39m\u001b[38;5;124mLemmatizedTweet\u001b[39m\u001b[38;5;124m'\u001b[39m] \u001b[38;5;241m=\u001b[39m \u001b[38;5;28;01mNone\u001b[39;00m  \u001b[38;5;66;03m# Initialize the column if it doesn't exist\u001b[39;00m\n\u001b[1;32m     16\u001b[0m \u001b[38;5;66;03m# Call the lemmatization function\u001b[39;00m\n\u001b[0;32m---> 17\u001b[0m train \u001b[38;5;241m=\u001b[39m lemmatization(train)\n",
      "Cell \u001b[0;32mIn[237], line 8\u001b[0m, in \u001b[0;36mlemmatization\u001b[0;34m(data)\u001b[0m\n\u001b[1;32m      6\u001b[0m lemmatized_tweet \u001b[38;5;241m=\u001b[39m []\n\u001b[1;32m      7\u001b[0m \u001b[38;5;28;01mfor\u001b[39;00m word \u001b[38;5;129;01min\u001b[39;00m data[\u001b[38;5;124m'\u001b[39m\u001b[38;5;124mTweetText\u001b[39m\u001b[38;5;124m'\u001b[39m][i]:\n\u001b[0;32m----> 8\u001b[0m     lemmatized_word \u001b[38;5;241m=\u001b[39m wnl\u001b[38;5;241m.\u001b[39mlemmatize(word)\n\u001b[1;32m      9\u001b[0m     lemmatized_tweet\u001b[38;5;241m.\u001b[39mappend(lemmatized_word)\n\u001b[1;32m     10\u001b[0m data\u001b[38;5;241m.\u001b[39mloc[i, \u001b[38;5;124m'\u001b[39m\u001b[38;5;124mLemmatizedTweet\u001b[39m\u001b[38;5;124m'\u001b[39m] \u001b[38;5;241m=\u001b[39m lemmatized_tweet\n",
      "File \u001b[0;32m~/anaconda3/lib/python3.11/site-packages/nltk/stem/wordnet.py:45\u001b[0m, in \u001b[0;36mWordNetLemmatizer.lemmatize\u001b[0;34m(self, word, pos)\u001b[0m\n\u001b[1;32m     <a href='file:///Users/aithassouneyouness/anaconda3/lib/python3.11/site-packages/nltk/stem/wordnet.py?line=32'>33</a>\u001b[0m \u001b[39mdef\u001b[39;00m \u001b[39mlemmatize\u001b[39m(\u001b[39mself\u001b[39m, word: \u001b[39mstr\u001b[39m, pos: \u001b[39mstr\u001b[39m \u001b[39m=\u001b[39m \u001b[39m\"\u001b[39m\u001b[39mn\u001b[39m\u001b[39m\"\u001b[39m) \u001b[39m-\u001b[39m\u001b[39m>\u001b[39m \u001b[39mstr\u001b[39m:\n\u001b[1;32m     <a href='file:///Users/aithassouneyouness/anaconda3/lib/python3.11/site-packages/nltk/stem/wordnet.py?line=33'>34</a>\u001b[0m \u001b[39m    \u001b[39m\u001b[39m\"\"\"Lemmatize `word` using WordNet's built-in morphy function.\u001b[39;00m\n\u001b[1;32m     <a href='file:///Users/aithassouneyouness/anaconda3/lib/python3.11/site-packages/nltk/stem/wordnet.py?line=34'>35</a>\u001b[0m \u001b[39m    Returns the input word unchanged if it cannot be found in WordNet.\u001b[39;00m\n\u001b[1;32m     <a href='file:///Users/aithassouneyouness/anaconda3/lib/python3.11/site-packages/nltk/stem/wordnet.py?line=35'>36</a>\u001b[0m \n\u001b[0;32m   (...)\u001b[0m\n\u001b[1;32m     <a href='file:///Users/aithassouneyouness/anaconda3/lib/python3.11/site-packages/nltk/stem/wordnet.py?line=42'>43</a>\u001b[0m \u001b[39m    :return: The lemma of `word`, for the given `pos`.\u001b[39;00m\n\u001b[1;32m     <a href='file:///Users/aithassouneyouness/anaconda3/lib/python3.11/site-packages/nltk/stem/wordnet.py?line=43'>44</a>\u001b[0m \u001b[39m    \"\"\"\u001b[39;00m\n\u001b[0;32m---> <a href='file:///Users/aithassouneyouness/anaconda3/lib/python3.11/site-packages/nltk/stem/wordnet.py?line=44'>45</a>\u001b[0m     lemmas \u001b[39m=\u001b[39m wn\u001b[39m.\u001b[39m_morphy(word, pos)\n\u001b[1;32m     <a href='file:///Users/aithassouneyouness/anaconda3/lib/python3.11/site-packages/nltk/stem/wordnet.py?line=45'>46</a>\u001b[0m     \u001b[39mreturn\u001b[39;00m \u001b[39mmin\u001b[39m(lemmas, key\u001b[39m=\u001b[39m\u001b[39mlen\u001b[39m) \u001b[39mif\u001b[39;00m lemmas \u001b[39melse\u001b[39;00m word\n",
      "File \u001b[0;32m~/anaconda3/lib/python3.11/site-packages/nltk/corpus/util.py:121\u001b[0m, in \u001b[0;36mLazyCorpusLoader.__getattr__\u001b[0;34m(self, attr)\u001b[0m\n\u001b[1;32m    <a href='file:///Users/aithassouneyouness/anaconda3/lib/python3.11/site-packages/nltk/corpus/util.py?line=117'>118</a>\u001b[0m \u001b[39mif\u001b[39;00m attr \u001b[39m==\u001b[39m \u001b[39m\"\u001b[39m\u001b[39m__bases__\u001b[39m\u001b[39m\"\u001b[39m:\n\u001b[1;32m    <a href='file:///Users/aithassouneyouness/anaconda3/lib/python3.11/site-packages/nltk/corpus/util.py?line=118'>119</a>\u001b[0m     \u001b[39mraise\u001b[39;00m \u001b[39mAttributeError\u001b[39;00m(\u001b[39m\"\u001b[39m\u001b[39mLazyCorpusLoader object has no attribute \u001b[39m\u001b[39m'\u001b[39m\u001b[39m__bases__\u001b[39m\u001b[39m'\u001b[39m\u001b[39m\"\u001b[39m)\n\u001b[0;32m--> <a href='file:///Users/aithassouneyouness/anaconda3/lib/python3.11/site-packages/nltk/corpus/util.py?line=120'>121</a>\u001b[0m \u001b[39mself\u001b[39m\u001b[39m.\u001b[39m__load()\n\u001b[1;32m    <a href='file:///Users/aithassouneyouness/anaconda3/lib/python3.11/site-packages/nltk/corpus/util.py?line=121'>122</a>\u001b[0m \u001b[39m# This looks circular, but its not, since __load() changes our\u001b[39;00m\n\u001b[1;32m    <a href='file:///Users/aithassouneyouness/anaconda3/lib/python3.11/site-packages/nltk/corpus/util.py?line=122'>123</a>\u001b[0m \u001b[39m# __class__ to something new:\u001b[39;00m\n\u001b[1;32m    <a href='file:///Users/aithassouneyouness/anaconda3/lib/python3.11/site-packages/nltk/corpus/util.py?line=123'>124</a>\u001b[0m \u001b[39mreturn\u001b[39;00m \u001b[39mgetattr\u001b[39m(\u001b[39mself\u001b[39m, attr)\n",
      "File \u001b[0;32m~/anaconda3/lib/python3.11/site-packages/nltk/corpus/util.py:89\u001b[0m, in \u001b[0;36mLazyCorpusLoader.__load\u001b[0;34m(self)\u001b[0m\n\u001b[1;32m     <a href='file:///Users/aithassouneyouness/anaconda3/lib/python3.11/site-packages/nltk/corpus/util.py?line=85'>86</a>\u001b[0m             \u001b[39mraise\u001b[39;00m e\n\u001b[1;32m     <a href='file:///Users/aithassouneyouness/anaconda3/lib/python3.11/site-packages/nltk/corpus/util.py?line=87'>88</a>\u001b[0m \u001b[39m# Load the corpus.\u001b[39;00m\n\u001b[0;32m---> <a href='file:///Users/aithassouneyouness/anaconda3/lib/python3.11/site-packages/nltk/corpus/util.py?line=88'>89</a>\u001b[0m corpus \u001b[39m=\u001b[39m \u001b[39mself\u001b[39m\u001b[39m.\u001b[39m__reader_cls(root, \u001b[39m*\u001b[39m\u001b[39mself\u001b[39m\u001b[39m.\u001b[39m__args, \u001b[39m*\u001b[39m\u001b[39m*\u001b[39m\u001b[39mself\u001b[39m\u001b[39m.\u001b[39m__kwargs)\n\u001b[1;32m     <a href='file:///Users/aithassouneyouness/anaconda3/lib/python3.11/site-packages/nltk/corpus/util.py?line=90'>91</a>\u001b[0m \u001b[39m# This is where the magic happens!  Transform ourselves into\u001b[39;00m\n\u001b[1;32m     <a href='file:///Users/aithassouneyouness/anaconda3/lib/python3.11/site-packages/nltk/corpus/util.py?line=91'>92</a>\u001b[0m \u001b[39m# the corpus by modifying our own __dict__ and __class__ to\u001b[39;00m\n\u001b[1;32m     <a href='file:///Users/aithassouneyouness/anaconda3/lib/python3.11/site-packages/nltk/corpus/util.py?line=92'>93</a>\u001b[0m \u001b[39m# match that of the corpus.\u001b[39;00m\n\u001b[1;32m     <a href='file:///Users/aithassouneyouness/anaconda3/lib/python3.11/site-packages/nltk/corpus/util.py?line=94'>95</a>\u001b[0m args, kwargs \u001b[39m=\u001b[39m \u001b[39mself\u001b[39m\u001b[39m.\u001b[39m__args, \u001b[39mself\u001b[39m\u001b[39m.\u001b[39m__kwargs\n",
      "File \u001b[0;32m~/anaconda3/lib/python3.11/site-packages/nltk/corpus/reader/wordnet.py:1176\u001b[0m, in \u001b[0;36mWordNetCorpusReader.__init__\u001b[0;34m(self, root, omw_reader)\u001b[0m\n\u001b[1;32m   <a href='file:///Users/aithassouneyouness/anaconda3/lib/python3.11/site-packages/nltk/corpus/reader/wordnet.py?line=1171'>1172</a>\u001b[0m     warnings\u001b[39m.\u001b[39mwarn(\n\u001b[1;32m   <a href='file:///Users/aithassouneyouness/anaconda3/lib/python3.11/site-packages/nltk/corpus/reader/wordnet.py?line=1172'>1173</a>\u001b[0m         \u001b[39m\"\u001b[39m\u001b[39mThe multilingual functions are not available with this Wordnet version\u001b[39m\u001b[39m\"\u001b[39m\n\u001b[1;32m   <a href='file:///Users/aithassouneyouness/anaconda3/lib/python3.11/site-packages/nltk/corpus/reader/wordnet.py?line=1173'>1174</a>\u001b[0m     )\n\u001b[1;32m   <a href='file:///Users/aithassouneyouness/anaconda3/lib/python3.11/site-packages/nltk/corpus/reader/wordnet.py?line=1174'>1175</a>\u001b[0m \u001b[39melse\u001b[39;00m:\n\u001b[0;32m-> <a href='file:///Users/aithassouneyouness/anaconda3/lib/python3.11/site-packages/nltk/corpus/reader/wordnet.py?line=1175'>1176</a>\u001b[0m     \u001b[39mself\u001b[39m\u001b[39m.\u001b[39mprovenances \u001b[39m=\u001b[39m \u001b[39mself\u001b[39m\u001b[39m.\u001b[39momw_prov()\n\u001b[1;32m   <a href='file:///Users/aithassouneyouness/anaconda3/lib/python3.11/site-packages/nltk/corpus/reader/wordnet.py?line=1177'>1178</a>\u001b[0m \u001b[39m# A cache to store the wordnet data of multiple languages\u001b[39;00m\n\u001b[1;32m   <a href='file:///Users/aithassouneyouness/anaconda3/lib/python3.11/site-packages/nltk/corpus/reader/wordnet.py?line=1178'>1179</a>\u001b[0m \u001b[39mself\u001b[39m\u001b[39m.\u001b[39m_lang_data \u001b[39m=\u001b[39m defaultdict(\u001b[39mlist\u001b[39m)\n",
      "File \u001b[0;32m~/anaconda3/lib/python3.11/site-packages/nltk/corpus/reader/wordnet.py:1285\u001b[0m, in \u001b[0;36mWordNetCorpusReader.omw_prov\u001b[0;34m(self)\u001b[0m\n\u001b[1;32m   <a href='file:///Users/aithassouneyouness/anaconda3/lib/python3.11/site-packages/nltk/corpus/reader/wordnet.py?line=1282'>1283</a>\u001b[0m provdict \u001b[39m=\u001b[39m {}\n\u001b[1;32m   <a href='file:///Users/aithassouneyouness/anaconda3/lib/python3.11/site-packages/nltk/corpus/reader/wordnet.py?line=1283'>1284</a>\u001b[0m provdict[\u001b[39m\"\u001b[39m\u001b[39meng\u001b[39m\u001b[39m\"\u001b[39m] \u001b[39m=\u001b[39m \u001b[39m\"\u001b[39m\u001b[39m\"\u001b[39m\n\u001b[0;32m-> <a href='file:///Users/aithassouneyouness/anaconda3/lib/python3.11/site-packages/nltk/corpus/reader/wordnet.py?line=1284'>1285</a>\u001b[0m fileids \u001b[39m=\u001b[39m \u001b[39mself\u001b[39m\u001b[39m.\u001b[39m_omw_reader\u001b[39m.\u001b[39mfileids()\n\u001b[1;32m   <a href='file:///Users/aithassouneyouness/anaconda3/lib/python3.11/site-packages/nltk/corpus/reader/wordnet.py?line=1285'>1286</a>\u001b[0m \u001b[39mfor\u001b[39;00m fileid \u001b[39min\u001b[39;00m fileids:\n\u001b[1;32m   <a href='file:///Users/aithassouneyouness/anaconda3/lib/python3.11/site-packages/nltk/corpus/reader/wordnet.py?line=1286'>1287</a>\u001b[0m     prov, langfile \u001b[39m=\u001b[39m os\u001b[39m.\u001b[39mpath\u001b[39m.\u001b[39msplit(fileid)\n",
      "File \u001b[0;32m~/anaconda3/lib/python3.11/site-packages/nltk/corpus/util.py:121\u001b[0m, in \u001b[0;36mLazyCorpusLoader.__getattr__\u001b[0;34m(self, attr)\u001b[0m\n\u001b[1;32m    <a href='file:///Users/aithassouneyouness/anaconda3/lib/python3.11/site-packages/nltk/corpus/util.py?line=117'>118</a>\u001b[0m \u001b[39mif\u001b[39;00m attr \u001b[39m==\u001b[39m \u001b[39m\"\u001b[39m\u001b[39m__bases__\u001b[39m\u001b[39m\"\u001b[39m:\n\u001b[1;32m    <a href='file:///Users/aithassouneyouness/anaconda3/lib/python3.11/site-packages/nltk/corpus/util.py?line=118'>119</a>\u001b[0m     \u001b[39mraise\u001b[39;00m \u001b[39mAttributeError\u001b[39;00m(\u001b[39m\"\u001b[39m\u001b[39mLazyCorpusLoader object has no attribute \u001b[39m\u001b[39m'\u001b[39m\u001b[39m__bases__\u001b[39m\u001b[39m'\u001b[39m\u001b[39m\"\u001b[39m)\n\u001b[0;32m--> <a href='file:///Users/aithassouneyouness/anaconda3/lib/python3.11/site-packages/nltk/corpus/util.py?line=120'>121</a>\u001b[0m \u001b[39mself\u001b[39m\u001b[39m.\u001b[39m__load()\n\u001b[1;32m    <a href='file:///Users/aithassouneyouness/anaconda3/lib/python3.11/site-packages/nltk/corpus/util.py?line=121'>122</a>\u001b[0m \u001b[39m# This looks circular, but its not, since __load() changes our\u001b[39;00m\n\u001b[1;32m    <a href='file:///Users/aithassouneyouness/anaconda3/lib/python3.11/site-packages/nltk/corpus/util.py?line=122'>123</a>\u001b[0m \u001b[39m# __class__ to something new:\u001b[39;00m\n\u001b[1;32m    <a href='file:///Users/aithassouneyouness/anaconda3/lib/python3.11/site-packages/nltk/corpus/util.py?line=123'>124</a>\u001b[0m \u001b[39mreturn\u001b[39;00m \u001b[39mgetattr\u001b[39m(\u001b[39mself\u001b[39m, attr)\n",
      "File \u001b[0;32m~/anaconda3/lib/python3.11/site-packages/nltk/corpus/util.py:86\u001b[0m, in \u001b[0;36mLazyCorpusLoader.__load\u001b[0;34m(self)\u001b[0m\n\u001b[1;32m     <a href='file:///Users/aithassouneyouness/anaconda3/lib/python3.11/site-packages/nltk/corpus/util.py?line=83'>84</a>\u001b[0m             root \u001b[39m=\u001b[39m nltk\u001b[39m.\u001b[39mdata\u001b[39m.\u001b[39mfind(\u001b[39mf\u001b[39m\u001b[39m\"\u001b[39m\u001b[39m{\u001b[39;00m\u001b[39mself\u001b[39m\u001b[39m.\u001b[39msubdir\u001b[39m}\u001b[39;00m\u001b[39m/\u001b[39m\u001b[39m{\u001b[39;00mzip_name\u001b[39m}\u001b[39;00m\u001b[39m\"\u001b[39m)\n\u001b[1;32m     <a href='file:///Users/aithassouneyouness/anaconda3/lib/python3.11/site-packages/nltk/corpus/util.py?line=84'>85</a>\u001b[0m         \u001b[39mexcept\u001b[39;00m \u001b[39mLookupError\u001b[39;00m:\n\u001b[0;32m---> <a href='file:///Users/aithassouneyouness/anaconda3/lib/python3.11/site-packages/nltk/corpus/util.py?line=85'>86</a>\u001b[0m             \u001b[39mraise\u001b[39;00m e\n\u001b[1;32m     <a href='file:///Users/aithassouneyouness/anaconda3/lib/python3.11/site-packages/nltk/corpus/util.py?line=87'>88</a>\u001b[0m \u001b[39m# Load the corpus.\u001b[39;00m\n\u001b[1;32m     <a href='file:///Users/aithassouneyouness/anaconda3/lib/python3.11/site-packages/nltk/corpus/util.py?line=88'>89</a>\u001b[0m corpus \u001b[39m=\u001b[39m \u001b[39mself\u001b[39m\u001b[39m.\u001b[39m__reader_cls(root, \u001b[39m*\u001b[39m\u001b[39mself\u001b[39m\u001b[39m.\u001b[39m__args, \u001b[39m*\u001b[39m\u001b[39m*\u001b[39m\u001b[39mself\u001b[39m\u001b[39m.\u001b[39m__kwargs)\n",
      "File \u001b[0;32m~/anaconda3/lib/python3.11/site-packages/nltk/corpus/util.py:81\u001b[0m, in \u001b[0;36mLazyCorpusLoader.__load\u001b[0;34m(self)\u001b[0m\n\u001b[1;32m     <a href='file:///Users/aithassouneyouness/anaconda3/lib/python3.11/site-packages/nltk/corpus/util.py?line=78'>79</a>\u001b[0m \u001b[39melse\u001b[39;00m:\n\u001b[1;32m     <a href='file:///Users/aithassouneyouness/anaconda3/lib/python3.11/site-packages/nltk/corpus/util.py?line=79'>80</a>\u001b[0m     \u001b[39mtry\u001b[39;00m:\n\u001b[0;32m---> <a href='file:///Users/aithassouneyouness/anaconda3/lib/python3.11/site-packages/nltk/corpus/util.py?line=80'>81</a>\u001b[0m         root \u001b[39m=\u001b[39m nltk\u001b[39m.\u001b[39mdata\u001b[39m.\u001b[39mfind(\u001b[39mf\u001b[39m\u001b[39m\"\u001b[39m\u001b[39m{\u001b[39;00m\u001b[39mself\u001b[39m\u001b[39m.\u001b[39msubdir\u001b[39m}\u001b[39;00m\u001b[39m/\u001b[39m\u001b[39m{\u001b[39;00m\u001b[39mself\u001b[39m\u001b[39m.\u001b[39m__name\u001b[39m}\u001b[39;00m\u001b[39m\"\u001b[39m)\n\u001b[1;32m     <a href='file:///Users/aithassouneyouness/anaconda3/lib/python3.11/site-packages/nltk/corpus/util.py?line=81'>82</a>\u001b[0m     \u001b[39mexcept\u001b[39;00m \u001b[39mLookupError\u001b[39;00m \u001b[39mas\u001b[39;00m e:\n\u001b[1;32m     <a href='file:///Users/aithassouneyouness/anaconda3/lib/python3.11/site-packages/nltk/corpus/util.py?line=82'>83</a>\u001b[0m         \u001b[39mtry\u001b[39;00m:\n",
      "File \u001b[0;32m~/anaconda3/lib/python3.11/site-packages/nltk/data.py:583\u001b[0m, in \u001b[0;36mfind\u001b[0;34m(resource_name, paths)\u001b[0m\n\u001b[1;32m    <a href='file:///Users/aithassouneyouness/anaconda3/lib/python3.11/site-packages/nltk/data.py?line=580'>581</a>\u001b[0m sep \u001b[39m=\u001b[39m \u001b[39m\"\u001b[39m\u001b[39m*\u001b[39m\u001b[39m\"\u001b[39m \u001b[39m*\u001b[39m \u001b[39m70\u001b[39m\n\u001b[1;32m    <a href='file:///Users/aithassouneyouness/anaconda3/lib/python3.11/site-packages/nltk/data.py?line=581'>582</a>\u001b[0m resource_not_found \u001b[39m=\u001b[39m \u001b[39mf\u001b[39m\u001b[39m\"\u001b[39m\u001b[39m\\n\u001b[39;00m\u001b[39m{\u001b[39;00msep\u001b[39m}\u001b[39;00m\u001b[39m\\n\u001b[39;00m\u001b[39m{\u001b[39;00mmsg\u001b[39m}\u001b[39;00m\u001b[39m\\n\u001b[39;00m\u001b[39m{\u001b[39;00msep\u001b[39m}\u001b[39;00m\u001b[39m\\n\u001b[39;00m\u001b[39m\"\u001b[39m\n\u001b[0;32m--> <a href='file:///Users/aithassouneyouness/anaconda3/lib/python3.11/site-packages/nltk/data.py?line=582'>583</a>\u001b[0m \u001b[39mraise\u001b[39;00m \u001b[39mLookupError\u001b[39;00m(resource_not_found)\n",
      "\u001b[0;31mLookupError\u001b[0m: \n**********************************************************************\n  Resource \u001b[93momw-1.4\u001b[0m not found.\n  Please use the NLTK Downloader to obtain the resource:\n\n  \u001b[31m>>> import nltk\n  >>> nltk.download('omw-1.4')\n  \u001b[0m\n  For more information see: https://www.nltk.org/data.html\n\n  Attempted to load \u001b[93mcorpora/omw-1.4\u001b[0m\n\n  Searched in:\n    - '/Users/aithassouneyouness/nltk_data'\n    - '/Users/aithassouneyouness/anaconda3/nltk_data'\n    - '/Users/aithassouneyouness/anaconda3/share/nltk_data'\n    - '/Users/aithassouneyouness/anaconda3/lib/nltk_data'\n    - '/usr/share/nltk_data'\n    - '/usr/local/share/nltk_data'\n    - '/usr/lib/nltk_data'\n    - '/usr/local/lib/nltk_data'\n**********************************************************************\n"
     ]
    }
   ],
   "source": [
    "#lemmatization1\n",
    "wnl = nltk.WordNetLemmatizer()\n",
    "\n",
    "def lemmatization(data):\n",
    "    for i in range(data.shape[0]):\n",
    "        lemmatized_tweet = []\n",
    "        for word in data['TweetText'][i]:\n",
    "            lemmatized_word = wnl.lemmatize(word)\n",
    "            lemmatized_tweet.append(lemmatized_word)\n",
    "        data['TweetText'][i] = lemmatized_tweet\n",
    "    return data\n",
    "    \n",
    "train = lemmatization(train)"
   ]
  },
  {
   "cell_type": "code",
   "execution_count": 219,
   "metadata": {},
   "outputs": [],
   "source": [
    "from collections import Counter\n",
    "def word_count(data):\n",
    "    freqs = {}\n",
    "    for i in range(data.shape[0]) :\n",
    "        label = data['Label'][i]\n",
    "        for word in  data['TweetText'][i]:\n",
    "            pair = ((word,label))\n",
    "            if pair in freqs :\n",
    "                freqs[pair] += 1\n",
    "            else :\n",
    "                freqs[pair] = 1\n",
    "    return freqs"
   ]
  },
  {
   "cell_type": "code",
   "execution_count": 220,
   "metadata": {},
   "outputs": [],
   "source": [
    "word_count(train)\n",
    "# same function as above but return word its label and count \n",
    "df=pd.DataFrame.from_dict(word_count(train), orient='index', columns=['count'])\n",
    "#create the two columns word , label \n",
    "df.reset_index(inplace=True)\n",
    "df[['word','label']] = pd.DataFrame(df['index'].tolist(), index=df.index)\n",
    "df.drop(columns=['index'], inplace=True)\n"
   ]
  },
  {
   "cell_type": "code",
   "execution_count": 221,
   "metadata": {},
   "outputs": [],
   "source": [
    "#sort by count\n",
    "df.sort_values(by=['count'], ascending=False, inplace=True)"
   ]
  },
  {
   "cell_type": "code",
   "execution_count": 222,
   "metadata": {},
   "outputs": [
    {
     "data": {
      "text/html": [
       "<div>\n",
       "<style scoped>\n",
       "    .dataframe tbody tr th:only-of-type {\n",
       "        vertical-align: middle;\n",
       "    }\n",
       "\n",
       "    .dataframe tbody tr th {\n",
       "        vertical-align: top;\n",
       "    }\n",
       "\n",
       "    .dataframe thead th {\n",
       "        text-align: right;\n",
       "    }\n",
       "</style>\n",
       "<table border=\"1\" class=\"dataframe\">\n",
       "  <thead>\n",
       "    <tr style=\"text-align: right;\">\n",
       "      <th></th>\n",
       "      <th>count</th>\n",
       "      <th>word</th>\n",
       "      <th>label</th>\n",
       "    </tr>\n",
       "  </thead>\n",
       "  <tbody>\n",
       "    <tr>\n",
       "      <th>0</th>\n",
       "      <td>422</td>\n",
       "      <td>amp</td>\n",
       "      <td>Politics</td>\n",
       "    </tr>\n",
       "    <tr>\n",
       "      <th>1</th>\n",
       "      <td>347</td>\n",
       "      <td>indvaus</td>\n",
       "      <td>Sports</td>\n",
       "    </tr>\n",
       "    <tr>\n",
       "      <th>2</th>\n",
       "      <td>329</td>\n",
       "      <td>president</td>\n",
       "      <td>Politics</td>\n",
       "    </tr>\n",
       "    <tr>\n",
       "      <th>3</th>\n",
       "      <td>314</td>\n",
       "      <td>test</td>\n",
       "      <td>Sports</td>\n",
       "    </tr>\n",
       "    <tr>\n",
       "      <th>4</th>\n",
       "      <td>236</td>\n",
       "      <td>obama</td>\n",
       "      <td>Politics</td>\n",
       "    </tr>\n",
       "  </tbody>\n",
       "</table>\n",
       "</div>"
      ],
      "text/plain": [
       "   count       word     label\n",
       "0    422        amp  Politics\n",
       "1    347    indvaus    Sports\n",
       "2    329  president  Politics\n",
       "3    314       test    Sports\n",
       "4    236      obama  Politics"
      ]
     },
     "execution_count": 222,
     "metadata": {},
     "output_type": "execute_result"
    }
   ],
   "source": [
    "#reindex\n",
    "df.reset_index(inplace=True)\n",
    "df.drop(columns=['index'], inplace=True)\n",
    "df.head()"
   ]
  },
  {
   "cell_type": "code",
   "execution_count": 223,
   "metadata": {},
   "outputs": [
    {
     "data": {
      "text/html": [
       "<div>\n",
       "<style scoped>\n",
       "    .dataframe tbody tr th:only-of-type {\n",
       "        vertical-align: middle;\n",
       "    }\n",
       "\n",
       "    .dataframe tbody tr th {\n",
       "        vertical-align: top;\n",
       "    }\n",
       "\n",
       "    .dataframe thead th {\n",
       "        text-align: right;\n",
       "    }\n",
       "</style>\n",
       "<table border=\"1\" class=\"dataframe\">\n",
       "  <thead>\n",
       "    <tr style=\"text-align: right;\">\n",
       "      <th></th>\n",
       "      <th>count</th>\n",
       "      <th>word</th>\n",
       "      <th>label</th>\n",
       "      <th>weights</th>\n",
       "    </tr>\n",
       "  </thead>\n",
       "  <tbody>\n",
       "    <tr>\n",
       "      <th>0</th>\n",
       "      <td>422</td>\n",
       "      <td>amp</td>\n",
       "      <td>Politics</td>\n",
       "      <td>0.013065</td>\n",
       "    </tr>\n",
       "    <tr>\n",
       "      <th>1</th>\n",
       "      <td>347</td>\n",
       "      <td>indvaus</td>\n",
       "      <td>Sports</td>\n",
       "      <td>0.010387</td>\n",
       "    </tr>\n",
       "    <tr>\n",
       "      <th>2</th>\n",
       "      <td>329</td>\n",
       "      <td>president</td>\n",
       "      <td>Politics</td>\n",
       "      <td>0.010186</td>\n",
       "    </tr>\n",
       "    <tr>\n",
       "      <th>3</th>\n",
       "      <td>314</td>\n",
       "      <td>test</td>\n",
       "      <td>Sports</td>\n",
       "      <td>0.009399</td>\n",
       "    </tr>\n",
       "    <tr>\n",
       "      <th>4</th>\n",
       "      <td>236</td>\n",
       "      <td>obama</td>\n",
       "      <td>Politics</td>\n",
       "      <td>0.007307</td>\n",
       "    </tr>\n",
       "  </tbody>\n",
       "</table>\n",
       "</div>"
      ],
      "text/plain": [
       "   count       word     label   weights\n",
       "0    422        amp  Politics  0.013065\n",
       "1    347    indvaus    Sports  0.010387\n",
       "2    329  president  Politics  0.010186\n",
       "3    314       test    Sports  0.009399\n",
       "4    236      obama  Politics  0.007307"
      ]
     },
     "execution_count": 223,
     "metadata": {},
     "output_type": "execute_result"
    }
   ],
   "source": [
    "#create the weights column\n",
    "df['weights']=df['count']/df.groupby('label')['count'].transform('sum')\n",
    "df.head()"
   ]
  },
  {
   "cell_type": "code",
   "execution_count": 224,
   "metadata": {},
   "outputs": [
    {
     "data": {
      "image/png": "[encoded data removed]",
      "text/plain": [
       "<Figure size 1500x800 with 1 Axes>"
      ]
     },
     "metadata": {},
     "output_type": "display_data"
    }
   ],
   "source": [
    "#plot the weights\n",
    "import matplotlib.pyplot as plt\n",
    "import seaborn as sns\n",
    "sns.set_style('whitegrid')\n",
    "plt.figure(figsize=(15, 8))\n",
    "sns.barplot(x='word', y='weights', hue='label', data=df.head(20))\n",
    "plt.xticks(rotation=90)\n",
    "plt.show()"
   ]
  }
 ],
 "metadata": {
  "kernelspec": {
   "display_name": "Python 3",
   "language": "python",
   "name": "python3"
  },
  "language_info": {
   "codemirror_mode": {
    "name": "ipython",
    "version": 3
   },
   "file_extension": ".py",
   "mimetype": "text/x-python",
   "name": "python",
   "nbconvert_exporter": "python",
   "pygments_lexer": "ipython3",
   "version": "3.11.3"
  },
  "orig_nbformat": 4
 },
 "nbformat": 4,
 "nbformat_minor": 2
}
