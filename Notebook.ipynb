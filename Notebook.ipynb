{
  "cells": [
    {
      "cell_type": "markdown",
      "metadata": {
        "colab_type": "text",
        "id": "view-in-github"
      },
      "source": [
        "<a href=\"https://colab.research.google.com/github/Frandiiile/Deep_tweets/blob/main/Notebook.ipynb\" target=\"_parent\"><img src=\"https://colab.research.google.com/assets/colab-badge.svg\" alt=\"Open In Colab\"/></a>"
      ]
    },
    {
      "cell_type": "markdown",
      "metadata": {
        "id": "Cuw05ojYdx1j"
      },
      "source": [
        "# Data Preprocessing"
      ]
    },
    {
      "cell_type": "markdown",
      "metadata": {},
      "source": [
        "## read data "
      ]
    },
    {
      "cell_type": "code",
      "execution_count": 35,
      "metadata": {
        "id": "Ni1aXtwIdx1l"
      },
      "outputs": [],
      "source": [
        "import pandas as pd\n",
        "import numpy as np\n",
        "import matplotlib.pyplot as plt\n",
        "import seaborn as sns\n",
        "import os"
      ]
    },
    {
      "cell_type": "code",
      "execution_count": 36,
      "metadata": {
        "id": "51ILz2hBdx1l"
      },
      "outputs": [],
      "source": [
        "train = pd.read_csv('data/train.csv')\n",
        "test = pd.read_csv('data/test.csv')\n",
        "training=pd.read_csv('data/training.csv')"
      ]
    },
    {
      "cell_type": "code",
      "execution_count": 37,
      "metadata": {
        "colab": {
          "base_uri": "https://localhost:8080/",
          "height": 206
        },
        "id": "vBEiVEJKdx1m",
        "outputId": "314460d0-91c9-4a5b-b1ac-5cc7d041f537"
      },
      "outputs": [
        {
          "data": {
            "text/html": [
              "<div>\n",
              "<style scoped>\n",
              "    .dataframe tbody tr th:only-of-type {\n",
              "        vertical-align: middle;\n",
              "    }\n",
              "\n",
              "    .dataframe tbody tr th {\n",
              "        vertical-align: top;\n",
              "    }\n",
              "\n",
              "    .dataframe thead th {\n",
              "        text-align: right;\n",
              "    }\n",
              "</style>\n",
              "<table border=\"1\" class=\"dataframe\">\n",
              "  <thead>\n",
              "    <tr style=\"text-align: right;\">\n",
              "      <th></th>\n",
              "      <th>TweetId</th>\n",
              "      <th>Label</th>\n",
              "      <th>TweetText</th>\n",
              "    </tr>\n",
              "  </thead>\n",
              "  <tbody>\n",
              "    <tr>\n",
              "      <th>0</th>\n",
              "      <td>304271250237304833</td>\n",
              "      <td>Politics</td>\n",
              "      <td>'#SecKerry: The value of the @StateDept and @U...</td>\n",
              "    </tr>\n",
              "    <tr>\n",
              "      <th>1</th>\n",
              "      <td>304834304222064640</td>\n",
              "      <td>Politics</td>\n",
              "      <td>'@rraina1481 I fear so'</td>\n",
              "    </tr>\n",
              "    <tr>\n",
              "      <th>2</th>\n",
              "      <td>303568995880144898</td>\n",
              "      <td>Sports</td>\n",
              "      <td>'Watch video highlights of the #wwc13 final be...</td>\n",
              "    </tr>\n",
              "    <tr>\n",
              "      <th>3</th>\n",
              "      <td>304366580664528896</td>\n",
              "      <td>Sports</td>\n",
              "      <td>'RT @chelscanlan: At Nitro Circus at #AlbertPa...</td>\n",
              "    </tr>\n",
              "    <tr>\n",
              "      <th>4</th>\n",
              "      <td>296770931098009601</td>\n",
              "      <td>Sports</td>\n",
              "      <td>'@cricketfox Always a good thing. Thanks for t...</td>\n",
              "    </tr>\n",
              "  </tbody>\n",
              "</table>\n",
              "</div>"
            ],
            "text/plain": [
              "              TweetId     Label  \\\n",
              "0  304271250237304833  Politics   \n",
              "1  304834304222064640  Politics   \n",
              "2  303568995880144898    Sports   \n",
              "3  304366580664528896    Sports   \n",
              "4  296770931098009601    Sports   \n",
              "\n",
              "                                           TweetText  \n",
              "0  '#SecKerry: The value of the @StateDept and @U...  \n",
              "1                            '@rraina1481 I fear so'  \n",
              "2  'Watch video highlights of the #wwc13 final be...  \n",
              "3  'RT @chelscanlan: At Nitro Circus at #AlbertPa...  \n",
              "4  '@cricketfox Always a good thing. Thanks for t...  "
            ]
          },
          "execution_count": 37,
          "metadata": {},
          "output_type": "execute_result"
        }
      ],
      "source": [
        "train.head()"
      ]
    },
    {
      "cell_type": "markdown",
      "metadata": {},
      "source": [
        "## check null values"
      ]
    },
    {
      "cell_type": "code",
      "execution_count": 38,
      "metadata": {
        "colab": {
          "base_uri": "https://localhost:8080/"
        },
        "id": "rx3soe_-dx1m",
        "outputId": "88bc966b-d511-4c4a-fe30-ef4361489dcf"
      },
      "outputs": [
        {
          "data": {
            "text/plain": [
              "TweetId      0\n",
              "Label        0\n",
              "TweetText    0\n",
              "dtype: int64"
            ]
          },
          "execution_count": 38,
          "metadata": {},
          "output_type": "execute_result"
        }
      ],
      "source": [
        "train.isnull().sum()"
      ]
    },
    {
      "cell_type": "code",
      "execution_count": 39,
      "metadata": {
        "colab": {
          "base_uri": "https://localhost:8080/"
        },
        "id": "FNoyssQUdx1m",
        "outputId": "31ebde62-25be-419a-aac7-f394106bd383"
      },
      "outputs": [
        {
          "data": {
            "text/plain": [
              "TweetId      0\n",
              "TweetText    0\n",
              "dtype: int64"
            ]
          },
          "execution_count": 39,
          "metadata": {},
          "output_type": "execute_result"
        }
      ],
      "source": [
        "test.isnull().sum()"
      ]
    },
    {
      "cell_type": "code",
      "execution_count": 40,
      "metadata": {
        "colab": {
          "base_uri": "https://localhost:8080/"
        },
        "id": "RmvQniDvdx1n",
        "outputId": "f4963929-c0f1-4f5f-aee9-1c4941ba3951"
      },
      "outputs": [
        {
          "data": {
            "text/plain": [
              "(6525, 3)"
            ]
          },
          "execution_count": 40,
          "metadata": {},
          "output_type": "execute_result"
        }
      ],
      "source": [
        "train.shape"
      ]
    },
    {
      "cell_type": "markdown",
      "metadata": {},
      "source": [
        "## Data cleaning"
      ]
    },
    {
      "cell_type": "code",
      "execution_count": 41,
      "metadata": {
        "colab": {
          "base_uri": "https://localhost:8080/"
        },
        "id": "fbCKp_Rtdx1n",
        "outputId": "33d2365c-e851-4127-c0f6-99f3ed83a6c8"
      },
      "outputs": [
        {
          "name": "stderr",
          "output_type": "stream",
          "text": [
            "/var/folders/jg/pktw8l5s32xgj2428mt_gdxr0000gn/T/ipykernel_15676/1222076369.py:2: FutureWarning: The default value of regex will change from True to False in a future version. In addition, single character regular expressions will *not* be treated as literal strings when regex=True.\n",
            "  train['TweetText'] = train['TweetText'].str.replace('.', '')\n",
            "/var/folders/jg/pktw8l5s32xgj2428mt_gdxr0000gn/T/ipykernel_15676/1222076369.py:4: FutureWarning: The default value of regex will change from True to False in a future version. In addition, single character regular expressions will *not* be treated as literal strings when regex=True.\n",
            "  train['TweetText'] = train['TweetText'].str.replace('?', '')\n",
            "/var/folders/jg/pktw8l5s32xgj2428mt_gdxr0000gn/T/ipykernel_15676/1222076369.py:5: FutureWarning: The default value of regex will change from True to False in a future version. In addition, single character regular expressions will *not* be treated as literal strings when regex=True.\n",
            "  train['TweetText'] = train['TweetText'].str.replace('(', '')\n",
            "/var/folders/jg/pktw8l5s32xgj2428mt_gdxr0000gn/T/ipykernel_15676/1222076369.py:6: FutureWarning: The default value of regex will change from True to False in a future version. In addition, single character regular expressions will *not* be treated as literal strings when regex=True.\n",
            "  train['TweetText'] = train['TweetText'].str.replace(')', '')\n"
          ]
        }
      ],
      "source": [
        "def clean_column(train):\n",
        "    train['TweetText'] = train['TweetText'].str.replace('.', '') \n",
        "    train['TweetText'] = train['TweetText'].str.replace('!', '')\n",
        "    train['TweetText'] = train['TweetText'].str.replace('?', '')\n",
        "    train['TweetText'] = train['TweetText'].str.replace('(', '')\n",
        "    train['TweetText'] = train['TweetText'].str.replace(')', '')\n",
        "    train['TweetText'] = train['TweetText'].str.replace('-', '')\n",
        "clean_column(train)"
      ]
    },
    {
      "cell_type": "code",
      "execution_count": 42,
      "metadata": {
        "id": "hXulVhr4dx1n"
      },
      "outputs": [],
      "source": [
        "import re\n",
        "def clean_Text(text):\n",
        "    text=re.sub('@[A-Za-z0–9]+','',text) #Removing @mentions\n",
        "    text=re.sub('#', '', text) # Removing '#' hash tag\n",
        "    text=re.sub('RT[\\s]+', '', text) # Removing RT\n",
        "    text=re.sub('https?:\\/\\/\\S+', '', text) # Removing hyperlink\n",
        "    text=re.sub(':', '', text)\n",
        "    text=re.sub(\"'\", '', text)\n",
        "    text=re.sub(\",\", '', text)\n",
        "    text=re.sub(\";\", '', text)\n",
        "    text=re.sub(\"&\", '', text)\n",
        "    text=re.sub(\"``\", '', text)\n",
        "    text=re.sub('\"', '', text)\n",
        "    return text\n",
        "train['TweetText']=train['TweetText'].apply(clean_Text)"
      ]
    },
    {
      "cell_type": "code",
      "execution_count": 43,
      "metadata": {
        "colab": {
          "base_uri": "https://localhost:8080/",
          "height": 206
        },
        "id": "ztBKn4xAdx1o",
        "outputId": "e9870154-2e17-4ca9-b0b7-66614f37dfe8"
      },
      "outputs": [
        {
          "data": {
            "text/html": [
              "<div>\n",
              "<style scoped>\n",
              "    .dataframe tbody tr th:only-of-type {\n",
              "        vertical-align: middle;\n",
              "    }\n",
              "\n",
              "    .dataframe tbody tr th {\n",
              "        vertical-align: top;\n",
              "    }\n",
              "\n",
              "    .dataframe thead th {\n",
              "        text-align: right;\n",
              "    }\n",
              "</style>\n",
              "<table border=\"1\" class=\"dataframe\">\n",
              "  <thead>\n",
              "    <tr style=\"text-align: right;\">\n",
              "      <th></th>\n",
              "      <th>TweetId</th>\n",
              "      <th>Label</th>\n",
              "      <th>TweetText</th>\n",
              "    </tr>\n",
              "  </thead>\n",
              "  <tbody>\n",
              "    <tr>\n",
              "      <th>0</th>\n",
              "      <td>304271250237304833</td>\n",
              "      <td>Politics</td>\n",
              "      <td>SecKerry The value of the  and  is measured no...</td>\n",
              "    </tr>\n",
              "    <tr>\n",
              "      <th>1</th>\n",
              "      <td>304834304222064640</td>\n",
              "      <td>Politics</td>\n",
              "      <td>1481 I fear so</td>\n",
              "    </tr>\n",
              "    <tr>\n",
              "      <th>2</th>\n",
              "      <td>303568995880144898</td>\n",
              "      <td>Sports</td>\n",
              "      <td>Watch video highlights of the wwc13 final betw...</td>\n",
              "    </tr>\n",
              "    <tr>\n",
              "      <th>3</th>\n",
              "      <td>304366580664528896</td>\n",
              "      <td>Sports</td>\n",
              "      <td>At Nitro Circus at AlbertPark  theymakeitlook...</td>\n",
              "    </tr>\n",
              "    <tr>\n",
              "      <th>4</th>\n",
              "      <td>296770931098009601</td>\n",
              "      <td>Sports</td>\n",
              "      <td>Always a good thing Thanks for the feedback</td>\n",
              "    </tr>\n",
              "  </tbody>\n",
              "</table>\n",
              "</div>"
            ],
            "text/plain": [
              "              TweetId     Label  \\\n",
              "0  304271250237304833  Politics   \n",
              "1  304834304222064640  Politics   \n",
              "2  303568995880144898    Sports   \n",
              "3  304366580664528896    Sports   \n",
              "4  296770931098009601    Sports   \n",
              "\n",
              "                                           TweetText  \n",
              "0  SecKerry The value of the  and  is measured no...  \n",
              "1                                     1481 I fear so  \n",
              "2  Watch video highlights of the wwc13 final betw...  \n",
              "3   At Nitro Circus at AlbertPark  theymakeitlook...  \n",
              "4       Always a good thing Thanks for the feedback   "
            ]
          },
          "execution_count": 43,
          "metadata": {},
          "output_type": "execute_result"
        }
      ],
      "source": [
        "train.head()"
      ]
    },
    {
      "cell_type": "code",
      "execution_count": 44,
      "metadata": {
        "colab": {
          "base_uri": "https://localhost:8080/"
        },
        "id": "I8ud0sBfdx1o",
        "outputId": "e9e7c138-04bc-44d6-bb4c-3dc92644ed38"
      },
      "outputs": [
        {
          "name": "stderr",
          "output_type": "stream",
          "text": [
            "[nltk_data] Downloading package punkt to\n",
            "[nltk_data]     /Users/aithassouneyouness/nltk_data...\n",
            "[nltk_data]   Package punkt is already up-to-date!\n"
          ]
        },
        {
          "data": {
            "text/plain": [
              "True"
            ]
          },
          "execution_count": 44,
          "metadata": {},
          "output_type": "execute_result"
        }
      ],
      "source": [
        "import nltk\n",
        "nltk.download('punkt')"
      ]
    },
    {
      "cell_type": "markdown",
      "metadata": {},
      "source": [
        "## Tokenization"
      ]
    },
    {
      "cell_type": "code",
      "execution_count": 45,
      "metadata": {
        "colab": {
          "base_uri": "https://localhost:8080/"
        },
        "id": "5uoF9yqTdx1p",
        "outputId": "38f20fc5-9d32-4281-b84f-a05b0e0d2357"
      },
      "outputs": [
        {
          "data": {
            "text/plain": [
              "0       ['SecKerry', 'The', 'value', 'of', 'the', '', ...\n",
              "1                             ['1481', 'I', 'fear', 'so']\n",
              "2       ['Watch', 'video', 'highlights', 'of', 'the', ...\n",
              "3       ['', 'At', 'Nitro', 'Circus', 'at', 'AlbertPar...\n",
              "4       ['', 'Always', 'a', 'good', 'thing', 'Thanks',...\n",
              "                              ...                        \n",
              "6520    ['Photo', 'PM', 'has', 'laid', 'a', 'wreath', ...\n",
              "6521    ['The', 'secret', 'of', 'the', 'Chennai', 'pit...\n",
              "6522        ['', 'he', 'isnt', 'on', 'Twitter', 'either']\n",
              "6523    ['Which', 'England', 'player', 'would', 'you',...\n",
              "6524    ['Dmitry', 'Medvedev', 'expressed', 'condolenc...\n",
              "Name: TweetText, Length: 6525, dtype: object"
            ]
          },
          "execution_count": 45,
          "metadata": {},
          "output_type": "execute_result"
        }
      ],
      "source": [
        "def tolist(x):\n",
        "    return x.split(' ')\n",
        "train['TweetText']=train['TweetText'].apply(tolist)\n",
        "train['TweetText'].astype(str)"
      ]
    },
    {
      "cell_type": "code",
      "execution_count": 46,
      "metadata": {
        "id": "riGsi2jfdx1p"
      },
      "outputs": [],
      "source": [
        "#remove null strings\n",
        "def remove_empty(x):\n",
        "    return [item for item in x if item != '']\n",
        "train['TweetText']=train['TweetText'].apply(remove_empty)"
      ]
    },
    {
      "cell_type": "code",
      "execution_count": 47,
      "metadata": {
        "colab": {
          "base_uri": "https://localhost:8080/",
          "height": 206
        },
        "id": "VxkNn-PPdx1p",
        "outputId": "807d9148-90d2-4459-ad2f-23e51eb42078"
      },
      "outputs": [
        {
          "data": {
            "text/html": [
              "<div>\n",
              "<style scoped>\n",
              "    .dataframe tbody tr th:only-of-type {\n",
              "        vertical-align: middle;\n",
              "    }\n",
              "\n",
              "    .dataframe tbody tr th {\n",
              "        vertical-align: top;\n",
              "    }\n",
              "\n",
              "    .dataframe thead th {\n",
              "        text-align: right;\n",
              "    }\n",
              "</style>\n",
              "<table border=\"1\" class=\"dataframe\">\n",
              "  <thead>\n",
              "    <tr style=\"text-align: right;\">\n",
              "      <th></th>\n",
              "      <th>TweetId</th>\n",
              "      <th>Label</th>\n",
              "      <th>TweetText</th>\n",
              "    </tr>\n",
              "  </thead>\n",
              "  <tbody>\n",
              "    <tr>\n",
              "      <th>0</th>\n",
              "      <td>304271250237304833</td>\n",
              "      <td>Politics</td>\n",
              "      <td>[SecKerry, The, value, of, the, and, is, measu...</td>\n",
              "    </tr>\n",
              "    <tr>\n",
              "      <th>1</th>\n",
              "      <td>304834304222064640</td>\n",
              "      <td>Politics</td>\n",
              "      <td>[1481, I, fear, so]</td>\n",
              "    </tr>\n",
              "    <tr>\n",
              "      <th>2</th>\n",
              "      <td>303568995880144898</td>\n",
              "      <td>Sports</td>\n",
              "      <td>[Watch, video, highlights, of, the, wwc13, fin...</td>\n",
              "    </tr>\n",
              "    <tr>\n",
              "      <th>3</th>\n",
              "      <td>304366580664528896</td>\n",
              "      <td>Sports</td>\n",
              "      <td>[At, Nitro, Circus, at, AlbertPark, theymakeit...</td>\n",
              "    </tr>\n",
              "    <tr>\n",
              "      <th>4</th>\n",
              "      <td>296770931098009601</td>\n",
              "      <td>Sports</td>\n",
              "      <td>[Always, a, good, thing, Thanks, for, the, fee...</td>\n",
              "    </tr>\n",
              "  </tbody>\n",
              "</table>\n",
              "</div>"
            ],
            "text/plain": [
              "              TweetId     Label  \\\n",
              "0  304271250237304833  Politics   \n",
              "1  304834304222064640  Politics   \n",
              "2  303568995880144898    Sports   \n",
              "3  304366580664528896    Sports   \n",
              "4  296770931098009601    Sports   \n",
              "\n",
              "                                           TweetText  \n",
              "0  [SecKerry, The, value, of, the, and, is, measu...  \n",
              "1                                [1481, I, fear, so]  \n",
              "2  [Watch, video, highlights, of, the, wwc13, fin...  \n",
              "3  [At, Nitro, Circus, at, AlbertPark, theymakeit...  \n",
              "4  [Always, a, good, thing, Thanks, for, the, fee...  "
            ]
          },
          "execution_count": 47,
          "metadata": {},
          "output_type": "execute_result"
        }
      ],
      "source": [
        "train.head()"
      ]
    },
    {
      "cell_type": "markdown",
      "metadata": {},
      "source": [
        "## lowercase all words in train"
      ]
    },
    {
      "cell_type": "code",
      "execution_count": 48,
      "metadata": {
        "colab": {
          "base_uri": "https://localhost:8080/",
          "height": 510
        },
        "id": "D-MjuVEodx1p",
        "outputId": "99a6f679-78cf-40ac-922a-4be1b89d9b83"
      },
      "outputs": [
        {
          "name": "stderr",
          "output_type": "stream",
          "text": [
            "/var/folders/jg/pktw8l5s32xgj2428mt_gdxr0000gn/T/ipykernel_15676/2837165345.py:3: SettingWithCopyWarning: \n",
            "A value is trying to be set on a copy of a slice from a DataFrame\n",
            "\n",
            "See the caveats in the documentation: https://pandas.pydata.org/pandas-docs/stable/user_guide/indexing.html#returning-a-view-versus-a-copy\n",
            "  data['TweetText'][i] = [x.lower() for x in data['TweetText'][i]]\n"
          ]
        },
        {
          "data": {
            "text/html": [
              "<div>\n",
              "<style scoped>\n",
              "    .dataframe tbody tr th:only-of-type {\n",
              "        vertical-align: middle;\n",
              "    }\n",
              "\n",
              "    .dataframe tbody tr th {\n",
              "        vertical-align: top;\n",
              "    }\n",
              "\n",
              "    .dataframe thead th {\n",
              "        text-align: right;\n",
              "    }\n",
              "</style>\n",
              "<table border=\"1\" class=\"dataframe\">\n",
              "  <thead>\n",
              "    <tr style=\"text-align: right;\">\n",
              "      <th></th>\n",
              "      <th>TweetId</th>\n",
              "      <th>Label</th>\n",
              "      <th>TweetText</th>\n",
              "    </tr>\n",
              "  </thead>\n",
              "  <tbody>\n",
              "    <tr>\n",
              "      <th>0</th>\n",
              "      <td>304271250237304833</td>\n",
              "      <td>Politics</td>\n",
              "      <td>[seckerry, the, value, of, the, and, is, measu...</td>\n",
              "    </tr>\n",
              "    <tr>\n",
              "      <th>1</th>\n",
              "      <td>304834304222064640</td>\n",
              "      <td>Politics</td>\n",
              "      <td>[1481, i, fear, so]</td>\n",
              "    </tr>\n",
              "    <tr>\n",
              "      <th>2</th>\n",
              "      <td>303568995880144898</td>\n",
              "      <td>Sports</td>\n",
              "      <td>[watch, video, highlights, of, the, wwc13, fin...</td>\n",
              "    </tr>\n",
              "    <tr>\n",
              "      <th>3</th>\n",
              "      <td>304366580664528896</td>\n",
              "      <td>Sports</td>\n",
              "      <td>[at, nitro, circus, at, albertpark, theymakeit...</td>\n",
              "    </tr>\n",
              "    <tr>\n",
              "      <th>4</th>\n",
              "      <td>296770931098009601</td>\n",
              "      <td>Sports</td>\n",
              "      <td>[always, a, good, thing, thanks, for, the, fee...</td>\n",
              "    </tr>\n",
              "    <tr>\n",
              "      <th>...</th>\n",
              "      <td>...</td>\n",
              "      <td>...</td>\n",
              "      <td>...</td>\n",
              "    </tr>\n",
              "    <tr>\n",
              "      <th>6520</th>\n",
              "      <td>296675082267410433</td>\n",
              "      <td>Politics</td>\n",
              "      <td>[photo, pm, has, laid, a, wreath, at, martyrs,...</td>\n",
              "    </tr>\n",
              "    <tr>\n",
              "      <th>6521</th>\n",
              "      <td>306677536195231746</td>\n",
              "      <td>Sports</td>\n",
              "      <td>[the, secret, of, the, chennai, pitch, crumbli...</td>\n",
              "    </tr>\n",
              "    <tr>\n",
              "      <th>6522</th>\n",
              "      <td>306451295307431937</td>\n",
              "      <td>Sports</td>\n",
              "      <td>[he, isnt, on, twitter, either]</td>\n",
              "    </tr>\n",
              "    <tr>\n",
              "      <th>6523</th>\n",
              "      <td>306088574221176832</td>\n",
              "      <td>Sports</td>\n",
              "      <td>[which, england, player, would, you, take, out...</td>\n",
              "    </tr>\n",
              "    <tr>\n",
              "      <th>6524</th>\n",
              "      <td>277090953242759169</td>\n",
              "      <td>Politics</td>\n",
              "      <td>[dmitry, medvedev, expressed, condolences, to,...</td>\n",
              "    </tr>\n",
              "  </tbody>\n",
              "</table>\n",
              "<p>6525 rows × 3 columns</p>\n",
              "</div>"
            ],
            "text/plain": [
              "                 TweetId     Label  \\\n",
              "0     304271250237304833  Politics   \n",
              "1     304834304222064640  Politics   \n",
              "2     303568995880144898    Sports   \n",
              "3     304366580664528896    Sports   \n",
              "4     296770931098009601    Sports   \n",
              "...                  ...       ...   \n",
              "6520  296675082267410433  Politics   \n",
              "6521  306677536195231746    Sports   \n",
              "6522  306451295307431937    Sports   \n",
              "6523  306088574221176832    Sports   \n",
              "6524  277090953242759169  Politics   \n",
              "\n",
              "                                              TweetText  \n",
              "0     [seckerry, the, value, of, the, and, is, measu...  \n",
              "1                                   [1481, i, fear, so]  \n",
              "2     [watch, video, highlights, of, the, wwc13, fin...  \n",
              "3     [at, nitro, circus, at, albertpark, theymakeit...  \n",
              "4     [always, a, good, thing, thanks, for, the, fee...  \n",
              "...                                                 ...  \n",
              "6520  [photo, pm, has, laid, a, wreath, at, martyrs,...  \n",
              "6521  [the, secret, of, the, chennai, pitch, crumbli...  \n",
              "6522                    [he, isnt, on, twitter, either]  \n",
              "6523  [which, england, player, would, you, take, out...  \n",
              "6524  [dmitry, medvedev, expressed, condolences, to,...  \n",
              "\n",
              "[6525 rows x 3 columns]"
            ]
          },
          "execution_count": 48,
          "metadata": {},
          "output_type": "execute_result"
        }
      ],
      "source": [
        "def lower_case(data):\n",
        "    for i in range(data.shape[0]) :\n",
        "        data['TweetText'][i] = [x.lower() for x in data['TweetText'][i]]\n",
        "    return data\n",
        "lower_case(train)"
      ]
    },
    {
      "cell_type": "markdown",
      "metadata": {},
      "source": [
        "## removing stop words"
      ]
    },
    {
      "cell_type": "code",
      "execution_count": 49,
      "metadata": {
        "colab": {
          "base_uri": "https://localhost:8080/"
        },
        "id": "3ROxLWQEdx1p",
        "outputId": "28e301bb-6df3-4907-8cc9-7c3b7a375967"
      },
      "outputs": [
        {
          "name": "stderr",
          "output_type": "stream",
          "text": [
            "[nltk_data] Downloading package stopwords to\n",
            "[nltk_data]     /Users/aithassouneyouness/nltk_data...\n",
            "[nltk_data]   Package stopwords is already up-to-date!\n"
          ]
        },
        {
          "data": {
            "text/plain": [
              "True"
            ]
          },
          "execution_count": 49,
          "metadata": {},
          "output_type": "execute_result"
        }
      ],
      "source": [
        "from nltk.corpus import stopwords\n",
        "nltk.download('stopwords')"
      ]
    },
    {
      "cell_type": "code",
      "execution_count": 50,
      "metadata": {
        "id": "x8nxVxF5dx1p"
      },
      "outputs": [],
      "source": [
        "stop_words = ['i', 'me', 'my', 'myself', 'we', 'our', 'ours', 'ourselves', 'you', \"you're\", \"you've\", \"you'll\", \"you'd\", 'your', 'yours', 'yourself', 'yourselves', 'he', 'him', 'his', 'himself', 'she', \"she's\", 'her', 'hers', 'herself', 'it', \"it's\", 'its', 'itself', 'they', 'them', 'their', 'theirs', 'themselves', 'what', 'which', 'who', 'whom', 'this', 'that', \"that'll\", 'these', 'those', 'am', 'is', 'are', 'was', 'were', 'be', 'been', 'being', 'have', 'has', 'had', 'having', 'do', 'does', 'did', 'doing', 'a', 'an', 'the', 'and', 'but', 'if', 'or', 'because', 'as', 'until', 'while', 'of', 'at', 'by', 'for', 'with', 'about', 'against', 'between', 'into', 'through', 'during', 'before', 'after', 'above', 'below', 'to', 'from', 'up', 'down', 'in', 'out', 'on', 'off', 'over', 'under', 'again', 'further', 'then', 'once', 'here', 'there', 'when', 'where', 'why', 'how', 'all', 'any', 'both', 'each', 'few', 'more', 'most', 'other', 'some', 'such', 'no', 'nor', 'not', 'only', 'own', 'same', 'so', 'than', 'too', 'very', 's', 't', 'can', 'will', 'just', 'don', \"don't\", 'should', \"should've\", 'now', 'd', 'll', 'm', 'o', 're', 've', 'y', 'ain', 'aren', \"aren't\", 'couldn', \"couldn't\", 'didn', \"didn't\", 'doesn', \"doesn't\", 'hadn', \"hadn't\", 'hasn', \"hasn't\", 'haven', \"haven't\", 'isn', \"isn't\", 'ma', 'mightn', \"mightn't\", 'mustn', \"mustn't\", 'needn', \"needn't\", 'shan', \"shan't\", 'shouldn', \"shouldn't\", 'wasn', \"wasn't\", 'weren', \"weren't\", 'won', \"won't\", 'wouldn', \"wouldn't\"]\n",
        "def remove_stopwords(data):\n",
        "    for i in range(data.shape[0]) :\n",
        "        for word in  stop_words:\n",
        "            if word in data['TweetText'][i]:\n",
        "                data['TweetText'][i].remove(word)\n",
        "    return data\n",
        "train = remove_stopwords(train)"
      ]
    },
    {
      "cell_type": "markdown",
      "metadata": {},
      "source": [
        "## Lemmatization"
      ]
    },
    {
      "cell_type": "code",
      "execution_count": 51,
      "metadata": {
        "colab": {
          "base_uri": "https://localhost:8080/"
        },
        "id": "cAD6_6m_dx1p",
        "outputId": "07522956-a866-4168-d7be-0556b1fec359"
      },
      "outputs": [
        {
          "name": "stderr",
          "output_type": "stream",
          "text": [
            "[nltk_data] Downloading package wordnet to\n",
            "[nltk_data]     /Users/aithassouneyouness/nltk_data...\n",
            "[nltk_data]   Package wordnet is already up-to-date!\n"
          ]
        },
        {
          "name": "stdout",
          "output_type": "stream",
          "text": [
            "showing info https://raw.githubusercontent.com/nltk/nltk_data/gh-pages/index.xml\n"
          ]
        },
        {
          "data": {
            "text/plain": [
              "True"
            ]
          },
          "execution_count": 51,
          "metadata": {},
          "output_type": "execute_result"
        }
      ],
      "source": [
        "#nltk dependencies\n",
        "nltk.download('wordnet')\n",
        "nltk.download()"
      ]
    },
    {
      "cell_type": "code",
      "execution_count": 52,
      "metadata": {
        "id": "-LAe3ceOdx1q"
      },
      "outputs": [],
      "source": [
        "import nltk\n",
        "nltk.data.path.append(\"/Users/aithassouneyouness/nltk_data\")"
      ]
    },
    {
      "cell_type": "code",
      "execution_count": 53,
      "metadata": {
        "colab": {
          "base_uri": "https://localhost:8080/"
        },
        "id": "TUwrwQ5edx1q",
        "outputId": "661fd2a8-66ed-4302-9ae5-1c23ba94f0de"
      },
      "outputs": [
        {
          "name": "stderr",
          "output_type": "stream",
          "text": [
            "/var/folders/jg/pktw8l5s32xgj2428mt_gdxr0000gn/T/ipykernel_15676/982481804.py:9: SettingWithCopyWarning: \n",
            "A value is trying to be set on a copy of a slice from a DataFrame\n",
            "\n",
            "See the caveats in the documentation: https://pandas.pydata.org/pandas-docs/stable/user_guide/indexing.html#returning-a-view-versus-a-copy\n",
            "  data['TweetText'][i] = lemmatized_tweet\n"
          ]
        }
      ],
      "source": [
        "wnl = nltk.WordNetLemmatizer()\n",
        "\n",
        "def lemmatization(data):\n",
        "    for i in range(data.shape[0]):\n",
        "        lemmatized_tweet = []\n",
        "        for word in data['TweetText'][i]:\n",
        "            lemmatized_word = wnl.lemmatize(word)\n",
        "            lemmatized_tweet.append(lemmatized_word)\n",
        "        data['TweetText'][i] = lemmatized_tweet\n",
        "    return data\n",
        "\n",
        "train = lemmatization(train)"
      ]
    },
    {
      "cell_type": "code",
      "execution_count": 54,
      "metadata": {},
      "outputs": [
        {
          "data": {
            "text/html": [
              "<div>\n",
              "<style scoped>\n",
              "    .dataframe tbody tr th:only-of-type {\n",
              "        vertical-align: middle;\n",
              "    }\n",
              "\n",
              "    .dataframe tbody tr th {\n",
              "        vertical-align: top;\n",
              "    }\n",
              "\n",
              "    .dataframe thead th {\n",
              "        text-align: right;\n",
              "    }\n",
              "</style>\n",
              "<table border=\"1\" class=\"dataframe\">\n",
              "  <thead>\n",
              "    <tr style=\"text-align: right;\">\n",
              "      <th></th>\n",
              "      <th>TweetId</th>\n",
              "      <th>Label</th>\n",
              "      <th>TweetText</th>\n",
              "    </tr>\n",
              "  </thead>\n",
              "  <tbody>\n",
              "    <tr>\n",
              "      <th>0</th>\n",
              "      <td>304271250237304833</td>\n",
              "      <td>Politics</td>\n",
              "      <td>[seckerry, value, the, measured, dollar, in, t...</td>\n",
              "    </tr>\n",
              "    <tr>\n",
              "      <th>1</th>\n",
              "      <td>304834304222064640</td>\n",
              "      <td>Politics</td>\n",
              "      <td>[1481, fear]</td>\n",
              "    </tr>\n",
              "    <tr>\n",
              "      <th>2</th>\n",
              "      <td>303568995880144898</td>\n",
              "      <td>Sports</td>\n",
              "      <td>[watch, video, highlight, wwc13, final, austra...</td>\n",
              "    </tr>\n",
              "    <tr>\n",
              "      <th>3</th>\n",
              "      <td>304366580664528896</td>\n",
              "      <td>Sports</td>\n",
              "      <td>[nitro, circus, at, albertpark, theymakeitlook...</td>\n",
              "    </tr>\n",
              "    <tr>\n",
              "      <th>4</th>\n",
              "      <td>296770931098009601</td>\n",
              "      <td>Sports</td>\n",
              "      <td>[always, good, thing, thanks, feedback]</td>\n",
              "    </tr>\n",
              "  </tbody>\n",
              "</table>\n",
              "</div>"
            ],
            "text/plain": [
              "              TweetId     Label  \\\n",
              "0  304271250237304833  Politics   \n",
              "1  304834304222064640  Politics   \n",
              "2  303568995880144898    Sports   \n",
              "3  304366580664528896    Sports   \n",
              "4  296770931098009601    Sports   \n",
              "\n",
              "                                           TweetText  \n",
              "0  [seckerry, value, the, measured, dollar, in, t...  \n",
              "1                                       [1481, fear]  \n",
              "2  [watch, video, highlight, wwc13, final, austra...  \n",
              "3  [nitro, circus, at, albertpark, theymakeitlook...  \n",
              "4            [always, good, thing, thanks, feedback]  "
            ]
          },
          "execution_count": 54,
          "metadata": {},
          "output_type": "execute_result"
        }
      ],
      "source": [
        "train.head()"
      ]
    },
    {
      "cell_type": "markdown",
      "metadata": {},
      "source": [
        "## Exploratory data analysis"
      ]
    },
    {
      "cell_type": "markdown",
      "metadata": {},
      "source": [
        "### check if our data is balanced or not"
      ]
    },
    {
      "cell_type": "code",
      "execution_count": 55,
      "metadata": {},
      "outputs": [
        {
          "data": {
            "text/plain": [
              "Sports      3325\n",
              "Politics    3200\n",
              "Name: Label, dtype: int64"
            ]
          },
          "execution_count": 55,
          "metadata": {},
          "output_type": "execute_result"
        }
      ],
      "source": [
        "train['Label'].value_counts()"
      ]
    },
    {
      "cell_type": "code",
      "execution_count": 56,
      "metadata": {},
      "outputs": [
        {
          "data": {
            "text/plain": [
              "<Axes: xlabel='Label', ylabel='count'>"
            ]
          },
          "execution_count": 56,
          "metadata": {},
          "output_type": "execute_result"
        },
        {
          "data": {
            "image/png": "[encoded data removed]",
            "text/plain": [
              "<Figure size 640x480 with 1 Axes>"
            ]
          },
          "metadata": {},
          "output_type": "display_data"
        }
      ],
      "source": [
        "sns.countplot(x=\"Label\",data =train, palette=[\"#FF5733\", \"#3399FF\", \"#33FF7A\"])"
      ]
    },
    {
      "cell_type": "markdown",
      "metadata": {},
      "source": [
        "### have idea about the frequency of words in each label "
      ]
    },
    {
      "cell_type": "code",
      "execution_count": 57,
      "metadata": {},
      "outputs": [
        {
          "data": {
            "text/plain": [
              "{('seckerry', 'Politics'): 51,\n",
              " ('value', 'Politics'): 8,\n",
              " ('the', 'Politics'): 694,\n",
              " ('measured', 'Politics'): 2,\n",
              " ('dollar', 'Politics'): 9,\n",
              " ('in', 'Politics'): 122,\n",
              " ('term', 'Politics'): 19,\n",
              " ('of', 'Politics'): 216,\n",
              " ('deepest', 'Politics'): 2,\n",
              " ('american', 'Politics'): 65,\n",
              " ('1481', 'Politics'): 4,\n",
              " ('fear', 'Politics'): 6,\n",
              " ('watch', 'Sports'): 79,\n",
              " ('video', 'Sports'): 27,\n",
              " ('highlight', 'Sports'): 24,\n",
              " ('wwc13', 'Sports'): 30,\n",
              " ('final', 'Sports'): 155,\n",
              " ('australia', 'Sports'): 104,\n",
              " ('west', 'Sports'): 25,\n",
              " ('indie', 'Sports'): 16,\n",
              " ('nitro', 'Sports'): 2,\n",
              " ('circus', 'Sports'): 2,\n",
              " ('at', 'Sports'): 25,\n",
              " ('albertpark', 'Sports'): 8,\n",
              " ('theymakeitlooksoeasy', 'Sports'): 1,\n",
              " ('cantwaitforausgp', 'Sports'): 29,\n",
              " ('always', 'Sports'): 14,\n",
              " ('good', 'Sports'): 84,\n",
              " ('thing', 'Sports'): 20,\n",
              " ('thanks', 'Sports'): 107,\n",
              " ('feedback', 'Sports'): 27,\n",
              " ('dr', 'Politics'): 27,\n",
              " ('rajan', 'Politics'): 11,\n",
              " ('fiscal', 'Politics'): 19,\n",
              " ('consolidation', 'Politics'): 4,\n",
              " ('create', 'Politics'): 28,\n",
              " ('space', 'Politics'): 11,\n",
              " ('monetary', 'Politics'): 4,\n",
              " ('policy', 'Politics'): 51,\n",
              " ('act', 'Politics'): 31,\n",
              " ('fact', 'Politics'): 32,\n",
              " ('800000', 'Politics'): 2,\n",
              " ('defense', 'Politics'): 13,\n",
              " ('employee', 'Politics'): 4,\n",
              " ('forced', 'Politics'): 1,\n",
              " ('take', 'Politics'): 63,\n",
              " ('unpaid', 'Politics'): 1,\n",
              " ('leave', 'Politics'): 6,\n",
              " ('congress', 'Politics'): 57,\n",
              " ('doesnt', 'Politics'): 11,\n",
              " ('stop', 'Politics'): 18,\n",
              " ('impending', 'Politics'): 2,\n",
              " ('spending', 'Politics'): 20,\n",
              " ('cut', 'Politics'): 49,\n",
              " ('jobsnotcuts', 'Politics'): 11,\n",
              " ('1st', 'Sports'): 220,\n",
              " ('test', 'Sports'): 331,\n",
              " ('39', 'Sports'): 9,\n",
              " ('0', 'Sports'): 62,\n",
              " ('run', 'Sports'): 259,\n",
              " ('1', 'Sports'): 159,\n",
              " ('wkt', 'Sports'): 10,\n",
              " ('wade', 'Sports'): 16,\n",
              " ('m', 'Sports'): 61,\n",
              " ('clarke', 'Sports'): 55,\n",
              " ('24', 'Sports'): 26,\n",
              " ('au', 'Sports'): 132,\n",
              " ('101/4', 'Sports'): 2,\n",
              " ('indvaus', 'Sports'): 347,\n",
              " ('africa', 'Sports'): 32,\n",
              " ('top', 'Sports'): 53,\n",
              " ('team', 'Sports'): 147,\n",
              " ('try', 'Sports'): 14,\n",
              " ('take', 'Sports'): 88,\n",
              " ('step', 'Sports'): 6,\n",
              " ('closer', 'Sports'): 4,\n",
              " ('wt20', 'Sports'): 2,\n",
              " ('week', 'Sports'): 62,\n",
              " ('check', 'Sports'): 43,\n",
              " ('qualifying', 'Sports'): 1,\n",
              " ('fixture', 'Sports'): 12,\n",
              " ('beat', 'Sports'): 45,\n",
              " ('tweet', 'Sports'): 29,\n",
              " ('zebra', 'Sports'): 2,\n",
              " ('stopped', 'Sports'): 2,\n",
              " ('play', 'Sports'): 77,\n",
              " ('the', 'Sports'): 645,\n",
              " ('unusual', 'Sports'): 6,\n",
              " ('reason', 'Sports'): 4,\n",
              " ('for', 'Sports'): 50,\n",
              " ('club', 'Sports'): 40,\n",
              " ('cricket', 'Sports'): 101,\n",
              " ('match', 'Sports'): 110,\n",
              " ('halted', 'Sports'): 1,\n",
              " ('queensland', 'Sports'): 4,\n",
              " ('finished', 'Sports'): 8,\n",
              " ('inning', 'Sports'): 50,\n",
              " ('well', 'Sports'): 104,\n",
              " ('great', 'Sports'): 106,\n",
              " ('knock', 'Sports'): 10,\n",
              " ('jason', 'Sports'): 3,\n",
              " ('floros', 'Sports'): 3,\n",
              " ('47', 'Sports'): 4,\n",
              " ('qld', 'Sports'): 16,\n",
              " ('9146', 'Sports'): 1,\n",
              " ('ryobiodc', 'Sports'): 34,\n",
              " ('thanks', 'Politics'): 37,\n",
              " ('wont', 'Politics'): 4,\n",
              " ('respond', 'Politics'): 7,\n",
              " ('rubbish', 'Politics'): 1,\n",
              " ('president', 'Politics'): 348,\n",
              " ('obama', 'Politics'): 236,\n",
              " ('nominates', 'Politics'): 3,\n",
              " ('mary', 'Politics'): 3,\n",
              " ('jo', 'Politics'): 2,\n",
              " ('white', 'Politics'): 51,\n",
              " ('run', 'Politics'): 11,\n",
              " ('sec', 'Politics'): 6,\n",
              " ('announced', 'Politics'): 12,\n",
              " ('today', 'Politics'): 107,\n",
              " ('want', 'Politics'): 42,\n",
              " ('w', 'Politics'): 8,\n",
              " ('[english', 'Politics'): 1,\n",
              " ('translation]', 'Politics'): 1,\n",
              " ('opening', 'Politics'): 12,\n",
              " ('statement', 'Politics'): 40,\n",
              " ('pm', 'Politics'): 199,\n",
              " ('abe', 'Politics'): 43,\n",
              " ('press', 'Politics'): 141,\n",
              " ('conference', 'Politics'): 160,\n",
              " ('december', 'Politics'): 41,\n",
              " ('26', 'Politics'): 15,\n",
              " ('2012\\\\n', 'Politics'): 3,\n",
              " ('campaigned', 'Politics'): 1,\n",
              " ('year', 'Politics'): 127,\n",
              " ('commitment', 'Politics'): 11,\n",
              " ('military', 'Politics'): 17,\n",
              " ('his', 'Politics'): 7,\n",
              " ('record', 'Politics'): 14,\n",
              " ('doesn\\\\u2019t', 'Politics'): 1,\n",
              " ('match', 'Politics'): 1,\n",
              " ('rhetoric', 'Politics'): 3,\n",
              " ('gb', 'Sports'): 48,\n",
              " ('fed', 'Sports'): 18,\n",
              " ('cup', 'Sports'): 80,\n",
              " ('give', 'Sports'): 22,\n",
              " ('support', 'Sports'): 19,\n",
              " ('help', 'Sports'): 23,\n",
              " ('harry', 'Sports'): 2,\n",
              " ('others', 'Sports'): 8,\n",
              " ('_moseley', 'Sports'): 2,\n",
              " ('wearing', 'Sports'): 4,\n",
              " ('their', 'Sports'): 1,\n",
              " ('special', 'Sports'): 16,\n",
              " ('hhho', 'Sports'): 1,\n",
              " ('bracelet', 'Sports'): 1,\n",
              " ('htt', 'Sports'): 4,\n",
              " ('yes', 'Sports'): 17,\n",
              " ('railway', 'Politics'): 34,\n",
              " ('budget', 'Politics'): 57,\n",
              " ('first', 'Politics'): 88,\n",
              " ('time', 'Politics'): 93,\n",
              " ('347', 'Politics'): 1,\n",
              " ('ongoing', 'Politics'): 6,\n",
              " ('project', 'Politics'): 29,\n",
              " ('identified', 'Politics'): 1,\n",
              " ('priority', 'Politics'): 16,\n",
              " ('committed', 'Politics'): 4,\n",
              " ('funding', 'Politics'): 11,\n",
              " ('buy', 'Sports'): 13,\n",
              " ('ausgp', 'Sports'): 60,\n",
              " ('general', 'Sports'): 6,\n",
              " ('admission', 'Sports'): 6,\n",
              " ('ticket', 'Sports'): 54,\n",
              " ('march', 'Sports'): 23,\n",
              " ('early', 'Sports'): 15,\n",
              " ('bird', 'Sports'): 12,\n",
              " ('price', 'Sports'): 5,\n",
              " ('f1', 'Sports'): 66,\n",
              " ('gbfedcup', 'Sports'): 93,\n",
              " ('robson', 'Sports'): 31,\n",
              " ('back', 'Sports'): 80,\n",
              " ('court', 'Sports'): 12,\n",
              " ('following', 'Sports'): 27,\n",
              " ('treatment', 'Sports'): 2,\n",
              " ('left', 'Sports'): 21,\n",
              " ('shoulder', 'Sports'): 3,\n",
              " ('injury', 'Sports'): 16,\n",
              " ('one', 'Sports'): 101,\n",
              " ('dhoni\\\\u2019s', 'Sports'): 1,\n",
              " ('critic', 'Sports'): 2,\n",
              " ('fewer', 'Sports'): 1,\n",
              " ('india', 'Sports'): 133,\n",
              " ('captain', 'Sports'): 35,\n",
              " ('ganguly', 'Sports'): 5,\n",
              " ('h/t', 'Sports'): 1,\n",
              " ('sadly', 'Sports'): 1,\n",
              " ('sharmila', 'Sports'): 1,\n",
              " ('tagore', 'Sports'): 1,\n",
              " ('could', 'Sports'): 41,\n",
              " ('come', 'Sports'): 37,\n",
              " ('ailing', 'Sports'): 2,\n",
              " ('indiana', 'Politics'): 1,\n",
              " ('senate', 'Politics'): 16,\n",
              " ('race', 'Politics'): 12,\n",
              " ('richard', 'Politics'): 4,\n",
              " ('mourdock', 'Politics'): 1,\n",
              " ('speaking', 'Politics'): 23,\n",
              " ('live', 'Politics'): 134,\n",
              " ('newsource', 'Politics'): 5,\n",
              " ('ch', 'Politics'): 41,\n",
              " ('3', 'Politics'): 43,\n",
              " ('watson', 'Sports'): 60,\n",
              " ('cowan', 'Sports'): 38,\n",
              " ('shine', 'Sports'): 3,\n",
              " ('concerned', 'Sports'): 1,\n",
              " ('showing', 'Sports'): 6,\n",
              " ('say', 'Politics'): 39,\n",
              " ('hell', 'Politics'): 2,\n",
              " ('work', 'Politics'): 62,\n",
              " ('mitt', 'Politics'): 9,\n",
              " ('romney', 'Politics'): 18,\n",
              " ('coming', 'Politics'): 17,\n",
              " ('week', 'Politics'): 61,\n",
              " ('get', 'Politics'): 67,\n",
              " ('thing', 'Politics'): 22,\n",
              " ('done', 'Politics'): 16,\n",
              " ('dc', 'Politics'): 8,\n",
              " ('po256tu', 'Politics'): 1,\n",
              " ('bowled', 'Sports'): 16,\n",
              " ('harbhajan', 'Sports'): 14,\n",
              " ('around', 'Sports'): 17,\n",
              " ('wicket', 'Sports'): 110,\n",
              " ('sweeping', 'Sports'): 1,\n",
              " ('missing', 'Sports'): 2,\n",
              " ('losing', 'Sports'): 8,\n",
              " ('stump', 'Sports'): 18,\n",
              " ('out', 'Sports'): 40,\n",
              " ('8', 'Sports'): 44,\n",
              " ('5121', 'Sports'): 1,\n",
              " ('93', 'Sports'): 2,\n",
              " ('n', 'Sports'): 44,\n",
              " ('lyon', 'Sports'): 68,\n",
              " ('tendulkar', 'Sports'): 25,\n",
              " ('6', 'Sports'): 52,\n",
              " ('42/2', 'Sports'): 1,\n",
              " ('sorry', 'Sports'): 11,\n",
              " ('wright', 'Sports'): 8,\n",
              " ('nailbiting', 'Sports'): 2,\n",
              " ('david', 'Politics'): 25,\n",
              " ('plouffe', 'Politics'): 2,\n",
              " ('story', 'Politics'): 10,\n",
              " ('bouncing', 'Politics'): 1,\n",
              " ('around', 'Politics'): 22,\n",
              " ('house', 'Politics'): 59,\n",
              " ('senior', 'Politics'): 11,\n",
              " ('advisor', 'Politics'): 2,\n",
              " ('morning', 'Sports'): 25,\n",
              " ('everyone', 'Sports'): 15,\n",
              " ('lovely', 'Sports'): 8,\n",
              " ('day', 'Sports'): 142,\n",
              " ('cobham', 'Sports'): 4,\n",
              " ('squad', 'Sports'): 21,\n",
              " ('return', 'Sports'): 25,\n",
              " ('training', 'Sports'): 13,\n",
              " ('a', 'Sports'): 135,\n",
              " ('cfc', 'Sports'): 162,\n",
              " ('indian', 'Politics'): 30,\n",
              " ('celebrate', 'Politics'): 5,\n",
              " ('republic', 'Politics'): 13,\n",
              " ('day', 'Politics'): 101,\n",
              " ('world\\\\n', 'Politics'): 1,\n",
              " ('first', 'Sports'): 136,\n",
              " ('corner', 'Sports'): 11,\n",
              " ('game', 'Sports'): 148,\n",
              " ('go', 'Sports'): 80,\n",
              " ('man', 'Sports'): 36,\n",
              " ('city', 'Sports'): 45,\n",
              " ('cleared', 'Sports'): 7,\n",
              " ('3', 'Sports'): 74,\n",
              " ('min', 'Sports'): 33,\n",
              " ('played', 'Sports'): 32,\n",
              " ('exaston', 'Sports'): 1,\n",
              " ('villa', 'Sports'): 5,\n",
              " ('amp', 'Sports'): 177,\n",
              " ('whafc', 'Sports'): 2,\n",
              " ('forward', 'Sports'): 10,\n",
              " ('john', 'Sports'): 14,\n",
              " ('carew', 'Sports'): 2,\n",
              " ('signing', 'Sports'): 3,\n",
              " ('inter', 'Sports'): 3,\n",
              " ('milan', 'Sports'): 3,\n",
              " ('due', 'Sports'): 10,\n",
              " ('current', 'Sports'): 6,\n",
              " ('athletic', 'Sports'): 2,\n",
              " ('condition', 'Sports'): 5,\n",
              " ('bbcfootball', 'Sports'): 39,\n",
              " ('investment', 'Politics'): 20,\n",
              " ('nation', 'Politics'): 26,\n",
              " ('make', 'Politics'): 55,\n",
              " ('return', 'Politics'): 6,\n",
              " ('a', 'Politics'): 106,\n",
              " ('benefit', 'Politics'): 8,\n",
              " ('sizable', 'Politics'): 1,\n",
              " ('foreign', 'Politics'): 47,\n",
              " ('dynamic', 'Sports'): 1,\n",
              " ('dhoni', 'Sports'): 65,\n",
              " ('apart', 'Sports'): 2,\n",
              " ('video', 'Politics'): 156,\n",
              " ('english', 'Politics'): 103,\n",
              " ('chief', 'Politics'): 130,\n",
              " ('cabinet', 'Politics'): 130,\n",
              " ('secretary', 'Politics'): 129,\n",
              " ('suga', 'Politics'): 51,\n",
              " ('february', 'Politics'): 72,\n",
              " ('20', 'Politics'): 17,\n",
              " ('2013pm\\\\n', 'Politics'): 11,\n",
              " ('oscar', 'Sports'): 14,\n",
              " ('challenge', 'Sports'): 10,\n",
              " ('sparta', 'Sports'): 11,\n",
              " ('win', 'Sports'): 170,\n",
              " ('freekick', 'Sports'): 8,\n",
              " ('talk', 'Sports'): 8,\n",
              " ('problem', 'Sports'): 10,\n",
              " ('debut', 'Sports'): 22,\n",
              " ('2001', 'Sports'): 2,\n",
              " ('home', 'Sports'): 37,\n",
              " ('tie', 'Sports'): 21,\n",
              " ('would', 'Sports'): 46,\n",
              " ('mclarens', 'Sports'): 1,\n",
              " ('looking', 'Sports'): 33,\n",
              " ('fast', 'Sports'): 16,\n",
              " ('season', 'Sports'): 43,\n",
              " ('perez', 'Sports'): 1,\n",
              " ('quickest', 'Sports'): 1,\n",
              " ('2', 'Sports'): 110,\n",
              " ('testing', 'Sports'): 13,\n",
              " ('barcelona', 'Sports'): 19,\n",
              " ('photo', 'Politics'): 87,\n",
              " ('host', 'Politics'): 6,\n",
              " ('summit', 'Politics'): 14,\n",
              " ('chequer', 'Politics'): 1,\n",
              " ('attended', 'Politics'): 20,\n",
              " ('karzai', 'Politics'): 4,\n",
              " ('afghanistan', 'Politics'): 16,\n",
              " ('zardari', 'Politics'): 2,\n",
              " ('pakistan', 'Politics'): 5,\n",
              " ('vladimir', 'Politics'): 71,\n",
              " ('putin', 'Politics'): 84,\n",
              " ('chaired', 'Politics'): 7,\n",
              " ('meeting', 'Politics'): 126,\n",
              " ('agency', 'Politics'): 11,\n",
              " ('strategic', 'Politics'): 9,\n",
              " ('initiative', 'Politics'): 12,\n",
              " ('supervisory', 'Politics'): 1,\n",
              " ('board', 'Politics'): 13,\n",
              " ('paul', 'Politics'): 4,\n",
              " ('ryan', 'Politics'): 3,\n",
              " ('win', 'Politics'): 24,\n",
              " ('reelection', 'Politics'): 5,\n",
              " ('wisconsin', 'Politics'): 2,\n",
              " ('representative', 'Politics'): 9,\n",
              " ('\\\\u2013', 'Politics'): 43,\n",
              " ('po225', 'Politics'): 1,\n",
              " ('sugafebruary', 'Politics'): 6,\n",
              " ('5', 'Politics'): 18,\n",
              " ('young', 'Sports'): 8,\n",
              " ('gun', 'Sports'): 3,\n",
              " ('pujara', 'Sports'): 15,\n",
              " ('kohli', 'Sports'): 13,\n",
              " ('also', 'Sports'): 28,\n",
              " ('impressive', 'Sports'): 7,\n",
              " ('latter', 'Sports'): 2,\n",
              " ('manner', 'Sports'): 1,\n",
              " ('messed', 'Sports'): 1,\n",
              " ('ozs', 'Sports'): 1,\n",
              " ('field', 'Sports'): 11,\n",
              " ('placing', 'Sports'): 1,\n",
              " ('restrict', 'Sports'): 1,\n",
              " ('joint', 'Politics'): 8,\n",
              " ('news', 'Politics'): 26,\n",
              " ('angela', 'Politics'): 2,\n",
              " ('merkel', 'Politics'): 4,\n",
              " ('127', 'Sports'): 4,\n",
              " ('four', 'Sports'): 63,\n",
              " ('d/l', 'Sports'): 2,\n",
              " ('target', 'Sports'): 6,\n",
              " ('after', 'Sports'): 2,\n",
              " ('five', 'Sports'): 19,\n",
              " ('over', 'Sports'): 64,\n",
              " ('152', 'Sports'): 4,\n",
              " ('bbl02', 'Sports'): 192,\n",
              " ('bigfinals', 'Sports'): 165,\n",
              " ('govt', 'Politics'): 19,\n",
              " ('building', 'Politics'): 12,\n",
              " ('internet', 'Politics'): 7,\n",
              " ('infra', 'Politics'): 2,\n",
              " ('encourage', 'Politics'): 2,\n",
              " ('content', 'Politics'): 1,\n",
              " ('creation', 'Politics'): 2,\n",
              " ('to', 'Politics'): 253,\n",
              " ('regulate', 'Politics'): 2,\n",
              " ('tell', 'Politics'): 19,\n",
              " ('excl', 'Politics'): 1,\n",
              " ('intvw', 'Politics'): 1,\n",
              " ('h', 'Politics'): 6,\n",
              " ('release', 'Politics'): 13,\n",
              " ('commemorative', 'Politics'): 2,\n",
              " ('coin', 'Politics'): 1,\n",
              " ('silver', 'Politics'): 1,\n",
              " ('jubilee', 'Politics'): 1,\n",
              " ('mata', 'Politics'): 1,\n",
              " ('vaishno', 'Politics'): 1,\n",
              " ('devi', 'Politics'): 1,\n",
              " ('shrine', 'Politics'): 1,\n",
              " ('jampk', 'Politics'): 1,\n",
              " ('governor', 'Politics'): 17,\n",
              " ('cm', 'Politics'): 10,\n",
              " ('htt', 'Politics'): 6,\n",
              " ('dmitry', 'Politics'): 80,\n",
              " ('medvedev', 'Politics'): 138,\n",
              " ('kashincase', 'Politics'): 1,\n",
              " ('evidence', 'Politics'): 4,\n",
              " ('still', 'Politics'): 15,\n",
              " ('collected', 'Politics'): 1,\n",
              " ('case', 'Politics'): 13,\n",
              " ('is', 'Politics'): 27,\n",
              " ('closed', 'Politics'): 2,\n",
              " ('fully', 'Politics'): 5,\n",
              " ('investigated', 'Politics'): 1,\n",
              " ('tara', 'Sports'): 1,\n",
              " ('moore', 'Sports'): 2,\n",
              " ('surprise', 'Sports'): 3,\n",
              " ('i\\\\ve', 'Sports'): 3,\n",
              " ('really', 'Sports'): 16,\n",
              " ('tournament', 'Sports'): 23,\n",
              " ('had', 'Sports'): 3,\n",
              " ('load', 'Sports'): 3,\n",
              " ('fun', 'Sports'): 11,\n",
              " ('hopefully', 'Sports'): 4,\n",
              " ('1887', 'Sports'): 3,\n",
              " ('statement', 'Sports'): 11,\n",
              " ('@5liverugby', 'Sports'): 3,\n",
              " ('found', 'Sports'): 7,\n",
              " ('guilty', 'Sports'): 2,\n",
              " ('point', 'Sports'): 40,\n",
              " ('deduction', 'Sports'): 1,\n",
              " ('likely', 'Sports'): 2,\n",
              " ('punishment', 'Sports'): 1,\n",
              " ('lwelsh', 'Sports'): 2,\n",
              " ('second', 'Sports'): 48,\n",
              " ('bottom', 'Sports'): 2,\n",
              " ('pship', 'Sports'): 1,\n",
              " ('ahead', 'Sports'): 35,\n",
              " ('of', 'Sports'): 57,\n",
              " ('sale', 'Sports'): 9,\n",
              " ('overview', 'Politics'): 6,\n",
              " ('japanphilippines', 'Politics'): 1,\n",
              " ('november', 'Politics'): 25,\n",
              " ('5th', 'Politics'): 2,\n",
              " ('kevin', 'Sports'): 6,\n",
              " ('mirallass', 'Sports'): 1,\n",
              " ('goal', 'Sports'): 52,\n",
              " ('everton', 'Sports'): 30,\n",
              " ('efcs', 'Sports'): 2,\n",
              " ('10th', 'Sports'): 5,\n",
              " ('facup', 'Sports'): 11,\n",
              " ('campaign', 'Sports'): 4,\n",
              " ('scored', 'Sports'): 12,\n",
              " ('different', 'Sports'): 14,\n",
              " ('player', 'Sports'): 88,\n",
              " ('9', 'Sports'): 23,\n",
              " ('hand', 'Sports'): 14,\n",
              " ('mckay', 'Sports'): 6,\n",
              " ('17*', 'Sports'): 1,\n",
              " ('and', 'Sports'): 47,\n",
              " ('sheridan', 'Sports'): 6,\n",
              " ('4*', 'Sports'): 1,\n",
              " ('mcdermott', 'Sports'): 11,\n",
              " ('to', 'Sports'): 213,\n",
              " ('bowl', 'Sports'): 25,\n",
              " ('brad', 'Sports'): 7,\n",
              " ('hodge', 'Sports'): 12,\n",
              " ('greg', 'Sports'): 2,\n",
              " ('shipperd', 'Sports'): 1,\n",
              " ('shane', 'Sports'): 9,\n",
              " ('warne', 'Sports'): 8,\n",
              " ('tonight', 'Sports'): 59,\n",
              " ('big', 'Sports'): 65,\n",
              " ('semi', 'Sports'): 11,\n",
              " ('tata', 'Politics'): 1,\n",
              " ('among', 'Politics'): 4,\n",
              " ('top', 'Politics'): 12,\n",
              " ('40', 'Politics'): 5,\n",
              " ('global', 'Politics'): 24,\n",
              " ('brand', 'Politics'): 1,\n",
              " ('|', 'Politics'): 4,\n",
              " ('business', 'Politics'): 41,\n",
              " ('standard', 'Politics'): 12,\n",
              " ('_mlees', 'Sports'): 1,\n",
              " ('hi', 'Sports'): 27,\n",
              " ('matt', 'Sports'): 17,\n",
              " ('unfortunately', 'Sports'): 5,\n",
              " ('app', 'Sports'): 6,\n",
              " ('mobile', 'Sports'): 6,\n",
              " ('survey', 'Sports'): 1,\n",
              " ('compatible', 'Sports'): 1,\n",
              " ('phone', 'Sports'): 4,\n",
              " ('yet', 'Sports'): 16,\n",
              " ('level', 'Sports'): 14,\n",
              " ('tennis', 'Sports'): 146,\n",
              " ('coach', 'Sports'): 26,\n",
              " ('place', 'Sports'): 38,\n",
              " ('are', 'Sports'): 6,\n",
              " ('available', 'Sports'): 12,\n",
              " ('coaching', 'Sports'): 8,\n",
              " ('course', 'Sports'): 12,\n",
              " ('lancashire', 'Sports'): 1,\n",
              " ('starting', 'Sports'): 18,\n",
              " ('april', 'Sports'): 16,\n",
              " ('\\\\u2013', 'Sports'): 22,\n",
              " ('pm\\\\s', 'Politics'): 2,\n",
              " ('instruction', 'Politics'): 4,\n",
              " ('north', 'Politics'): 33,\n",
              " ('korea\\\\s', 'Politics'): 3,\n",
              " ('launch', 'Politics'): 22,\n",
              " ('missile', 'Politics'): 10,\n",
              " ('call', 'Politics'): 20,\n",
              " ('satellite', 'Politics'): 1,\n",
              " ('after', 'Politics'): 3,\n",
              " ('security', 'Politics'): 34,\n",
              " ('council\\\\n', 'Politics'): 1,\n",
              " ('cameron', 'Politics'): 22,\n",
              " ('meet', 'Politics'): 44,\n",
              " ('young', 'Politics'): 25,\n",
              " ('libyan', 'Politics'): 2,\n",
              " ('activist', 'Politics'): 3,\n",
              " ('martyr', 'Politics'): 3,\n",
              " ('square', 'Politics'): 3,\n",
              " ('tripoli', 'Politics'): 3,\n",
              " ('pminafrica', 'Politics'): 8,\n",
              " ('site', 'Sports'): 5,\n",
              " ('everything', 'Sports'): 7,\n",
              " ('we', 'Sports'): 19,\n",
              " ('miss', 'Sports'): 17,\n",
              " ('tks', 'Sports'): 3,\n",
              " ('alleppey', 'Politics'): 3,\n",
              " ('lighthouse', 'Politics'): 4,\n",
              " ('ep', 'Politics'): 54,\n",
              " ('economy', 'Politics'): 42,\n",
              " ('horse', 'Politics'): 3,\n",
              " ('meat', 'Politics'): 6,\n",
              " ('number', 'Politics'): 21,\n",
              " ('meps', 'Politics'): 42,\n",
              " ('carbon', 'Politics'): 2,\n",
              " ('credit', 'Politics'): 2,\n",
              " ('article', 'Politics'): 28,\n",
              " ('madiba', 'Politics'): 23,\n",
              " ('cared', 'Politics'): 1,\n",
              " ('pretoria', 'Politics'): 3,\n",
              " ('hospital', 'Politics'): 8,\n",
              " ('issued', 'Politics'): 11,\n",
              " ('possible', 'Sports'): 4,\n",
              " ('fa', 'Sports'): 13,\n",
              " ('quarterfinal', 'Sports'): 8,\n",
              " ('date', 'Sports'): 12,\n",
              " ('set', 'Sports'): 54,\n",
              " ('bupass', 'Sports'): 6,\n",
              " ('langer', 'Sports'): 1,\n",
              " ('rapt', 'Sports'): 1,\n",
              " ('warrior', 'Sports'): 5,\n",
              " ('fightback', 'Sports'): 4,\n",
              " ('waca', 'Sports'): 6,\n",
              " ('read', 'Sports'): 28,\n",
              " ('follow', 'Politics'): 35,\n",
              " ('update', 'Politics'): 21,\n",
              " ('blog', 'Politics'): 13,\n",
              " ('straight', 'Politics'): 3,\n",
              " ('bcim', 'Politics'): 52,\n",
              " ('car', 'Politics'): 57,\n",
              " ('rally', 'Politics'): 67,\n",
              " ('tumblr', 'Politics'): 1,\n",
              " ('wake', 'Sports'): 3,\n",
              " ('forest', 'Sports'): 2,\n",
              " ('dropped', 'Sports'): 10,\n",
              " ('miami', 'Sports'): 4,\n",
              " ('year', 'Sports'): 91,\n",
              " ('ncaa', 'Sports'): 1,\n",
              " ('bracket', 'Sports'): 3,\n",
              " ('going', 'Sports'): 44,\n",
              " ('hardest', 'Sports'): 1,\n",
              " ('multiple', 'Sports'): 1,\n",
              " ('choice', 'Sports'): 5,\n",
              " ('ever', 'Sports'): 17,\n",
              " ('photoset', 'Politics'): 1,\n",
              " ('social', 'Politics'): 20,\n",
              " ('state', 'Politics'): 103,\n",
              " ('union', 'Politics'): 38,\n",
              " ('stats', 'Politics'): 4,\n",
              " ('according', 'Politics'): 5,\n",
              " ('google', 'Politics'): 2,\n",
              " ('four', 'Politics'): 34,\n",
              " ('rising', 'Politics'): 7,\n",
              " ('search', 'Politics'): 4,\n",
              " ('january', 'Politics'): 50,\n",
              " ('24', 'Politics'): 9,\n",
              " ('2013am', 'Politics'): 15,\n",
              " ('two', 'Sports'): 60,\n",
              " ('_champ', 'Sports'): 4,\n",
              " ('manager', 'Sports'): 30,\n",
              " ('\\\\u2019s', 'Sports'): 3,\n",
              " ('darren', 'Sports'): 4,\n",
              " ('ferguson', 'Sports'): 3,\n",
              " ('_official\\\\u2019s', 'Sports'): 1,\n",
              " ('david', 'Sports'): 17,\n",
              " ('flitcroft', 'Sports'): 1,\n",
              " ('podcast', 'Sports'): 8,\n",
              " ('know', 'Politics'): 33,\n",
              " ('i', 'Politics'): 13,\n",
              " ('seen', 'Politics'): 9,\n",
              " ('it', 'Politics'): 11,\n",
              " ('good', 'Politics'): 26,\n",
              " ('democrat', 'Politics'): 3,\n",
              " ('come', 'Politics'): 26,\n",
              " ('together', 'Politics'): 17,\n",
              " ('republican', 'Politics'): 7,\n",
              " ('solve', 'Politics'): 6,\n",
              " ('big', 'Politics'): 11,\n",
              " ('problem', 'Politics'): 20,\n",
              " ('need', 'Politics'): 75,\n",
              " ('leadership', 'Politics'): 16,\n",
              " ('israel', 'Politics'): 7,\n",
              " ('former', 'Politics'): 25,\n",
              " ('negotiator', 'Politics'): 2,\n",
              " ('damascus', 'Politics'): 1,\n",
              " ('israeli', 'Politics'): 6,\n",
              " ('air', 'Politics'): 6,\n",
              " ('force', 'Politics'): 15,\n",
              " ('struck', 'Politics'): 1,\n",
              " ('syria', 'Politics'): 19,\n",
              " ('whats', 'Politics'): 9,\n",
              " ('next', 'Politics'): 29,\n",
              " ('21', 'Politics'): 11,\n",
              " ('daily', 'Sports'): 4,\n",
              " ('aegon', 'Sports'): 20,\n",
              " ('international', 'Sports'): 8,\n",
              " ('get', 'Sports'): 120,\n",
              " ('calling', 'Sports'): 7,\n",
              " ('0844', 'Sports'): 2,\n",
              " ('581', 'Sports'): 2,\n",
              " ('3015', 'Sports'): 2,\n",
              " ('ayaz', 'Sports'): 2,\n",
              " ('active', 'Sports'): 2,\n",
              " ('twitter', 'Sports'): 20,\n",
              " ('exciting', 'Sports'): 4,\n",
              " ('quiz', 'Sports'): 5,\n",
              " ('activity', 'Sports'): 2,\n",
              " ('lined', 'Sports'): 1,\n",
              " ('pls', 'Sports'): 2,\n",
              " ('let', 'Sports'): 22,\n",
              " ('ur', 'Sports'): 3,\n",
              " ('halftime', 'Sports'): 2,\n",
              " ('01', 'Sports'): 12,\n",
              " ('message', 'Politics'): 15,\n",
              " ('nelsonmandela', 'Politics'): 135,\n",
              " ('announcing', 'Politics'): 5,\n",
              " ('1999', 'Politics'): 3,\n",
              " ('international', 'Politics'): 24,\n",
              " ('older', 'Politics'): 2,\n",
              " ('person', 'Politics'): 10,\n",
              " ('lifeofpi', 'Politics'): 2,\n",
              " ('undoubtedly', 'Politics'): 2,\n",
              " ('best', 'Politics'): 27,\n",
              " ('movie', 'Politics'): 4,\n",
              " ('cant', 'Politics'): 13,\n",
              " ('wait', 'Politics'): 2,\n",
              " ('watch', 'Politics'): 70,\n",
              " ('djangounchained', 'Politics'): 1,\n",
              " ('though', 'Politics'): 4,\n",
              " ('inaugurated', 'Politics'): 3,\n",
              " ('selfdefense', 'Politics'): 1,\n",
              " ('workshop', 'Politics'): 6,\n",
              " ('female', 'Politics'): 1,\n",
              " ('student', 'Politics'): 15,\n",
              " ('organized', 'Politics'): 6,\n",
              " ('colaba', 'Politics'): 2,\n",
              " ('amp', 'Politics'): 422,\n",
              " ('30', 'Sports'): 30,\n",
              " ('fulham', 'Sports'): 11,\n",
              " ('wellworked', 'Sports'): 1,\n",
              " ('host', 'Sports'): 11,\n",
              " ('enterprising', 'Sports'): 1,\n",
              " ('from', 'Sports'): 10,\n",
              " ('robert', 'Sports'): 4,\n",
              " ('williams', 'Sports'): 11,\n",
              " ('cfcu18', 'Sports'): 7,\n",
              " ('22', 'Politics'): 13,\n",
              " ('2013pm', 'Politics'): 20,\n",
              " ('learnt', 'Politics'): 2,\n",
              " ('plenary', 'Politics'): 6,\n",
              " ('highlight', 'Politics'): 7,\n",
              " ('missed', 'Sports'): 13,\n",
              " ('talking', 'Sports'): 5,\n",
              " ('aegonchampionships', 'Sports'): 7,\n",
              " ('rallyagainstcancer', 'Sports'): 5,\n",
              " ('0838', 'Sports'): 1,\n",
              " ('\\\\u2019s', 'Politics'): 19,\n",
              " ('toward', 'Politics'): 4,\n",
              " ('china', 'Politics'): 33,\n",
              " ('hurting', 'Politics'): 3,\n",
              " ('small', 'Politics'): 13,\n",
              " ('can\\\\u2019t', 'Politics'): 30,\n",
              " ('afford', 'Politics'): 28,\n",
              " ('another', 'Politics'): 20,\n",
              " ('4', 'Politics'): 44,\n",
              " ('like', 'Politics'): 50,\n",
              " ('last', 'Politics'): 46,\n",
              " ('thought', 'Sports'): 12,\n",
              " ('mumbai', 'Sports'): 14,\n",
              " ('peak', 'Sports'): 2,\n",
              " ('hour', 'Sports'): 17,\n",
              " ('traffic', 'Sports'): 4,\n",
              " ('bad', 'Sports'): 6,\n",
              " ('delhi', 'Sports'): 3,\n",
              " ('pit', 'Sports'): 2,\n",
              " ('road', 'Sports'): 7,\n",
              " ('2/12', 'Sports'): 1,\n",
              " ('hr', 'Sports'): 2,\n",
              " ('okhla', 'Sports'): 1,\n",
              " ('janakpuri', 'Sports'): 1,\n",
              " ('congrats', 'Politics'): 4,\n",
              " ('4africa', 'Politics'): 1,\n",
              " ('winner', 'Politics'): 13,\n",
              " ('challenge', 'Politics'): 20,\n",
              " ('developing', 'Politics'): 4,\n",
              " ('solution', 'Politics'): 14,\n",
              " ('youth', 'Politics'): 16,\n",
              " ('unemployment', 'Politics'): 7,\n",
              " ('thats', 'Sports'): 28,\n",
              " ('asad', 'Sports'): 2,\n",
              " ('shafiq', 'Sports'): 1,\n",
              " ('malik', 'Sports'): 2,\n",
              " ('nfl', 'Sports'): 8,\n",
              " ('combine', 'Sports'): 4,\n",
              " ('review', 'Sports'): 6,\n",
              " ('youll', 'Sports'): 8,\n",
              " ('find', 'Sports'): 23,\n",
              " ('youtube', 'Sports'): 3,\n",
              " ('link', 'Sports'): 9,\n",
              " ('giving', 'Sports'): 14,\n",
              " ('discus', 'Sports'): 6,\n",
              " ('_environment', 'Politics'): 9,\n",
              " ('diagnostic', 'Politics'): 1,\n",
              " ('medical', 'Politics'): 5,\n",
              " ('device', 'Politics'): 3,\n",
              " ('ethic', 'Politics'): 1,\n",
              " ('dna', 'Politics'): 2,\n",
              " ('testing', 'Politics'): 2,\n",
              " ('start', 'Politics'): 34,\n",
              " ('1230pm', 'Politics'): 2,\n",
              " ('cet', 'Politics'): 45,\n",
              " ('join', 'Politics'): 44,\n",
              " ('empowering', 'Politics'): 5,\n",
              " ('lgbt', 'Politics'): 16,\n",
              " ('combating', 'Politics'): 6,\n",
              " ('homophobia', 'Politics'): 4,\n",
              " ('sport', 'Politics'): 11,\n",
              " ('qampa', 'Politics'): 9,\n",
              " ('feb21', 'Politics'): 5,\n",
              " ('09est/14utc', 'Politics'): 6,\n",
              " ('valentine', 'Politics'): 9,\n",
              " ('fell', 'Politics'): 2,\n",
              " ('love', 'Politics'): 21,\n",
              " ('abroad', 'Politics'): 8,\n",
              " ('youreurope', 'Politics'): 1,\n",
              " ('offer', 'Politics'): 9,\n",
              " ('info', 'Politics'): 8,\n",
              " ('marriage', 'Politics'): 2,\n",
              " ('registered', 'Politics'): 2,\n",
              " ('partnership', 'Politics'): 7,\n",
              " ('eu', 'Politics'): 68,\n",
              " ('eyc2013', 'Politics'): 1,\n",
              " ('@2fiddyracer', 'Sports'): 1,\n",
              " ('racing', 'Sports'): 5,\n",
              " ('terror', 'Politics'): 8,\n",
              " ('error', 'Politics'): 3,\n",
              " ('multiple', 'Politics'): 1,\n",
              " ('political', 'Politics'): 14,\n",
              " ('bickering', 'Politics'): 1,\n",
              " ('apathetic', 'Politics'): 2,\n",
              " ('response', 'Politics'): 5,\n",
              " ('terrorism', 'Politics'): 9,\n",
              " ('we', 'Politics'): 36,\n",
              " ('people', 'Politics'): 112,\n",
              " ('8', 'Politics'): 25,\n",
              " ('freedomampour', 'Politics'): 1,\n",
              " ('right', 'Politics'): 53,\n",
              " ('gain', 'Politics'): 3,\n",
              " ('full', 'Politics'): 19,\n",
              " ('meaning', 'Politics'): 3,\n",
              " ('succeed', 'Politics'): 3,\n",
              " ('overcoming', 'Politics'): 2,\n",
              " ('divisionsampinequalities', 'Politics'): 1,\n",
              " ('our', 'Politics'): 23,\n",
              " ('past', 'Politics'): 11,\n",
              " ('nm', 'Politics'): 12,\n",
              " ('dbt', 'Politics'): 2,\n",
              " ('process', 'Politics'): 9,\n",
              " ('roll', 'Politics'): 7,\n",
              " ('pilot', 'Politics'): 2,\n",
              " ('important', 'Politics'): 19,\n",
              " ('learn', 'Politics'): 24,\n",
              " ('telephone', 'Politics'): 11,\n",
              " ('conversation', 'Politics'): 22,\n",
              " ('ukraine', 'Politics'): 3,\n",
              " ('viktor', 'Politics'): 3,\n",
              " ('yanukovych', 'Politics'): 2,\n",
              " ('23', 'Politics'): 6,\n",
              " ('v', 'Politics'): 12,\n",
              " ('much', 'Politics'): 23,\n",
              " ('murray', 'Sports'): 26,\n",
              " ('one\\\\s', 'Sports'): 1,\n",
              " ('slam', 'Sports'): 10,\n",
              " ('immediate', 'Sports'): 3,\n",
              " ('winning', 'Sports'): 22,\n",
              " ('easiest', 'Sports'): 1,\n",
              " ('got', 'Sports'): 40,\n",
              " ('extremely', 'Sports'): 3,\n",
              " ('close', 'Sports'): 13,\n",
              " ('approach', 'Politics'): 10,\n",
              " ('turning', 'Politics'): 1,\n",
              " ('back', 'Politics'): 44,\n",
              " ('europe', 'Politics'): 28,\n",
              " ('about', 'Politics'): 7,\n",
              " ('making', 'Politics'): 21,\n",
              " ('competitive', 'Politics'): 6,\n",
              " ('open', 'Politics'): 24,\n",
              " ('flexible', 'Politics'): 4,\n",
              " ('securing', 'Politics'): 4,\n",
              " ('uk\\\\u2019s', 'Politics'): 2,\n",
              " ('place', 'Politics'): 27,\n",
              " ('within', 'Politics'): 8,\n",
              " ('wef', 'Politics'): 40,\n",
              " ('56', 'Sports'): 11,\n",
              " ('h', 'Sports'): 18,\n",
              " ('singh', 'Sports'): 14,\n",
              " ('e', 'Sports'): 33,\n",
              " ('4', 'Sports'): 109,\n",
              " ('11/0', 'Sports'): 4,\n",
              " ('hm', 'Politics'): 18,\n",
              " ('india', 'Politics'): 90,\n",
              " ('assented', 'Politics'): 1,\n",
              " ('unlawful', 'Politics'): 2,\n",
              " ('activity', 'Politics'): 8,\n",
              " ('prevention', 'Politics'): 6,\n",
              " ('amendt', 'Politics'): 1,\n",
              " ('2012', 'Politics'): 51,\n",
              " ('3113', 'Politics'): 1,\n",
              " ('\\\\u2026', 'Politics'): 8,\n",
              " ('we\\\\u2019ve', 'Politics'): 1,\n",
              " ('reached', 'Politics'): 3,\n",
              " ('bangladesh', 'Politics'): 23,\n",
              " ('border', 'Politics'): 13,\n",
              " ('bcim2013', 'Politics'): 43,\n",
              " ('onehanded', 'Sports'): 1,\n",
              " ('stunner', 'Sports'): 1,\n",
              " ('stahelkar', 'Sports'): 1,\n",
              " ('seal', 'Sports'): 1,\n",
              " ('world', 'Sports'): 64,\n",
              " ('10', 'Sports'): 98,\n",
              " ('wwc2013', 'Sports'): 6,\n",
              " ('imphal', 'Politics'): 10,\n",
              " ('icymi', 'Politics'): 2,\n",
              " ('amb', 'Politics'): 2,\n",
              " ('barton', 'Politics'): 1,\n",
              " ('cspan', 'Politics'): 1,\n",
              " ('yesterday', 'Politics'): 7,\n",
              " ('discussed', 'Politics'): 10,\n",
              " ('major', 'Politics'): 20,\n",
              " ('engagement', 'Politics'): 4,\n",
              " ('vpts', 'Politics'): 2,\n",
              " ('dusty', 'Politics'): 1,\n",
              " ('cargo', 'Politics'): 2,\n",
              " ('handling', 'Politics'): 3,\n",
              " ('getting', 'Politics'): 10,\n",
              " ('increasingly', 'Politics'): 2,\n",
              " ('mechanized', 'Politics'): 1,\n",
              " ('eliminate', 'Politics'): 4,\n",
              " ('pollution', 'Politics'): 3,\n",
              " ('sachin', 'Sports'): 20,\n",
              " ('superb', 'Sports'): 5,\n",
              " ('today', 'Sports'): 81,\n",
              " ('foot', 'Sports'): 8,\n",
              " ('moving', 'Sports'): 3,\n",
              " ('stroke', 'Sports'): 3,\n",
              " ('immaculate', 'Sports'): 1,\n",
              " ('delectably', 'Sports'): 1,\n",
              " ('executed', 'Sports'): 1,\n",
              " ('guy', 'Sports'): 16,\n",
              " ('think', 'Sports'): 50,\n",
              " ('i\\\\u2019m', 'Politics'): 7,\n",
              " ('also', 'Politics'): 26,\n",
              " ('issuing', 'Politics'): 1,\n",
              " ('new', 'Politics'): 153,\n",
              " ('goal', 'Politics'): 13,\n",
              " ('america', 'Politics'): 70,\n",
              " ('let\\\\u2019s', 'Politics'): 4,\n",
              " ('half', 'Politics'): 4,\n",
              " ('energy', 'Politics'): 28,\n",
              " ('wasted', 'Politics'): 3,\n",
              " ('home', 'Politics'): 19,\n",
              " ('led', 'Politics'): 4,\n",
              " ('pres', 'Politics'): 24,\n",
              " ('lincoln', 'Politics'): 20,\n",
              " ('sign', 'Politics'): 23,\n",
              " ('emancipation', 'Politics'): 8,\n",
              " ('proclamation', 'Politics'): 8,\n",
              " ('end', 'Politics'): 25,\n",
              " ('slavery', 'Politics'): 6,\n",
              " ('haroldholzer', 'Politics'): 24,\n",
              " ('candidate', 'Politics'): 12,\n",
              " ('obamas', 'Politics'): 37,\n",
              " ('slogan', 'Politics'): 5,\n",
              " ('2008', 'Politics'): 4,\n",
              " ('\\\\u2018yes', 'Politics'): 1,\n",
              " ('can\\\\u2019', 'Politics'): 1,\n",
              " ('\\\\u2018no', 'Politics'): 1,\n",
              " ('can\\\\u2019t\\\\u2019', 'Politics'): 1,\n",
              " ('ff', 'Politics'): 10,\n",
              " ('_gorka', 'Politics'): 1,\n",
              " ('company', 'Politics'): 24,\n",
              " ('woman', 'Politics'): 51,\n",
              " ('rpf', 'Politics'): 2,\n",
              " ('personnel', 'Politics'): 3,\n",
              " ('set', 'Politics'): 17,\n",
              " ('upanother', 'Politics'): 1,\n",
              " ('strengthen', 'Politics'): 8,\n",
              " ('especially', 'Politics'): 4,\n",
              " ('passenger', 'Politics'): 9,\n",
              " ('joe', 'Politics'): 8,\n",
              " ('biden', 'Politics'): 21,\n",
              " ('oath', 'Politics'): 7,\n",
              " ('office', 'Politics'): 22,\n",
              " ('vice', 'Politics'): 19,\n",
              " ('presidency', 'Politics'): 7,\n",
              " ('u', 'Politics'): 131,\n",
              " ('walk', 'Politics'): 4,\n",
              " ('brief', 'Politics'): 6,\n",
              " ('comment', 'Politics'): 8,\n",
              " ('po03su', 'Politics'): 1,\n",
              " ('po04su', 'Politics'): 1,\n",
              " ('po02su', 'Politics'): 1,\n",
              " ('natural', 'Politics'): 7,\n",
              " ('population', 'Politics'): 6,\n",
              " ('growth', 'Politics'): 34,\n",
              " ('recorded', 'Politics'): 1,\n",
              " ('five', 'Politics'): 8,\n",
              " ('month', 'Politics'): 15,\n",
              " ('russia', 'Politics'): 37,\n",
              " ('modern', 'Politics'): 10,\n",
              " ('history', 'Politics'): 21,\n",
              " ('nov', 'Politics'): 10,\n",
              " ('high', 'Politics'): 14,\n",
              " ('they', 'Politics'): 3,\n",
              " ('dont', 'Politics'): 22,\n",
              " ('deal', 'Politics'): 20,\n",
              " ('euco', 'Politics'): 21,\n",
              " ('wife', 'Politics'): 4,\n",
              " ('christmas', 'Politics'): 9,\n",
              " ('service', 'Politics'): 45,\n",
              " ('christ', 'Politics'): 1,\n",
              " ('saviour', 'Politics'): 1,\n",
              " ('cathedral', 'Politics'): 1,\n",
              " ('moscow', 'Politics'): 7,\n",
              " ('prime', 'Politics'): 115,\n",
              " ('minister', 'Politics'): 141,\n",
              " ('head', 'Politics'): 24,\n",
              " ('region', 'Politics'): 17,\n",
              " ('bear', 'Politics'): 6,\n",
              " ('personal', 'Politics'): 7,\n",
              " ('responsibility', 'Politics'): 11,\n",
              " ('raising', 'Politics'): 6,\n",
              " ('teacher', 'Politics'): 10,\n",
              " ('salary', 'Politics'): 5,\n",
              " ('working', 'Politics'): 31,\n",
              " ('breakfast', 'Politics'): 3,\n",
              " ('investor', 'Politics'): 5,\n",
              " ('davos', 'Politics'): 41,\n",
              " ('king', 'Sports'): 5,\n",
              " ('stats', 'Sports'): 13,\n",
              " ('discussion', 'Sports'): 6,\n",
              " ('look', 'Sports'): 68,\n",
              " ('nelson', 'Sports'): 1,\n",
              " ('in', 'Sports'): 91,\n",
              " ('new', 'Sports'): 83,\n",
              " ('light', 'Sports'): 4,\n",
              " ('celebrates', 'Politics'): 4,\n",
              " ('64th', 'Politics'): 2,\n",
              " ('hilarious', 'Sports'): 1,\n",
              " ('make', 'Sports'): 60,\n",
              " ...}"
            ]
          },
          "execution_count": 57,
          "metadata": {},
          "output_type": "execute_result"
        }
      ],
      "source": [
        "from collections import Counter\n",
        "def word_count(data):\n",
        "    freqs = {}\n",
        "    for i in range(data.shape[0]) :\n",
        "        label = data['Label'][i]\n",
        "        for word in  data['TweetText'][i]:\n",
        "            pair = ((word,label))\n",
        "            if pair in freqs :\n",
        "                freqs[pair] += 1\n",
        "            else :\n",
        "                freqs[pair] = 1\n",
        "    return freqs\n",
        "\n",
        "word_count(train)"
      ]
    },
    {
      "cell_type": "code",
      "execution_count": 58,
      "metadata": {},
      "outputs": [],
      "source": [
        "df=pd.DataFrame.from_dict(word_count(train), orient='index', columns=['count'])\n",
        "#create the two columns word , label\n",
        "df.reset_index(inplace=True)\n",
        "df[['word','label']] = pd.DataFrame(df['index'].tolist(), index=df.index)\n",
        "df.drop(columns=['index'], inplace=True)"
      ]
    },
    {
      "cell_type": "code",
      "execution_count": 59,
      "metadata": {},
      "outputs": [],
      "source": [
        "#sort by count\n",
        "df.sort_values(by=['count'], ascending=False, inplace=True)"
      ]
    },
    {
      "cell_type": "code",
      "execution_count": 60,
      "metadata": {},
      "outputs": [
        {
          "data": {
            "text/html": [
              "<div>\n",
              "<style scoped>\n",
              "    .dataframe tbody tr th:only-of-type {\n",
              "        vertical-align: middle;\n",
              "    }\n",
              "\n",
              "    .dataframe tbody tr th {\n",
              "        vertical-align: top;\n",
              "    }\n",
              "\n",
              "    .dataframe thead th {\n",
              "        text-align: right;\n",
              "    }\n",
              "</style>\n",
              "<table border=\"1\" class=\"dataframe\">\n",
              "  <thead>\n",
              "    <tr style=\"text-align: right;\">\n",
              "      <th></th>\n",
              "      <th>count</th>\n",
              "      <th>word</th>\n",
              "      <th>label</th>\n",
              "    </tr>\n",
              "  </thead>\n",
              "  <tbody>\n",
              "    <tr>\n",
              "      <th>0</th>\n",
              "      <td>694</td>\n",
              "      <td>the</td>\n",
              "      <td>Politics</td>\n",
              "    </tr>\n",
              "    <tr>\n",
              "      <th>1</th>\n",
              "      <td>645</td>\n",
              "      <td>the</td>\n",
              "      <td>Sports</td>\n",
              "    </tr>\n",
              "    <tr>\n",
              "      <th>2</th>\n",
              "      <td>422</td>\n",
              "      <td>amp</td>\n",
              "      <td>Politics</td>\n",
              "    </tr>\n",
              "    <tr>\n",
              "      <th>3</th>\n",
              "      <td>348</td>\n",
              "      <td>president</td>\n",
              "      <td>Politics</td>\n",
              "    </tr>\n",
              "    <tr>\n",
              "      <th>4</th>\n",
              "      <td>347</td>\n",
              "      <td>indvaus</td>\n",
              "      <td>Sports</td>\n",
              "    </tr>\n",
              "  </tbody>\n",
              "</table>\n",
              "</div>"
            ],
            "text/plain": [
              "   count       word     label\n",
              "0    694        the  Politics\n",
              "1    645        the    Sports\n",
              "2    422        amp  Politics\n",
              "3    348  president  Politics\n",
              "4    347    indvaus    Sports"
            ]
          },
          "execution_count": 60,
          "metadata": {},
          "output_type": "execute_result"
        }
      ],
      "source": [
        "#reindex\n",
        "df.reset_index(inplace=True)\n",
        "df.drop(columns=['index'], inplace=True)\n",
        "df.head()"
      ]
    },
    {
      "cell_type": "code",
      "execution_count": 61,
      "metadata": {},
      "outputs": [
        {
          "data": {
            "text/html": [
              "<div>\n",
              "<style scoped>\n",
              "    .dataframe tbody tr th:only-of-type {\n",
              "        vertical-align: middle;\n",
              "    }\n",
              "\n",
              "    .dataframe tbody tr th {\n",
              "        vertical-align: top;\n",
              "    }\n",
              "\n",
              "    .dataframe thead th {\n",
              "        text-align: right;\n",
              "    }\n",
              "</style>\n",
              "<table border=\"1\" class=\"dataframe\">\n",
              "  <thead>\n",
              "    <tr style=\"text-align: right;\">\n",
              "      <th></th>\n",
              "      <th>count</th>\n",
              "      <th>word</th>\n",
              "      <th>label</th>\n",
              "      <th>weights</th>\n",
              "    </tr>\n",
              "  </thead>\n",
              "  <tbody>\n",
              "    <tr>\n",
              "      <th>0</th>\n",
              "      <td>694</td>\n",
              "      <td>the</td>\n",
              "      <td>Politics</td>\n",
              "      <td>0.020359</td>\n",
              "    </tr>\n",
              "    <tr>\n",
              "      <th>1</th>\n",
              "      <td>645</td>\n",
              "      <td>the</td>\n",
              "      <td>Sports</td>\n",
              "      <td>0.018409</td>\n",
              "    </tr>\n",
              "    <tr>\n",
              "      <th>2</th>\n",
              "      <td>422</td>\n",
              "      <td>amp</td>\n",
              "      <td>Politics</td>\n",
              "      <td>0.012380</td>\n",
              "    </tr>\n",
              "    <tr>\n",
              "      <th>3</th>\n",
              "      <td>348</td>\n",
              "      <td>president</td>\n",
              "      <td>Politics</td>\n",
              "      <td>0.010209</td>\n",
              "    </tr>\n",
              "    <tr>\n",
              "      <th>4</th>\n",
              "      <td>347</td>\n",
              "      <td>indvaus</td>\n",
              "      <td>Sports</td>\n",
              "      <td>0.009904</td>\n",
              "    </tr>\n",
              "  </tbody>\n",
              "</table>\n",
              "</div>"
            ],
            "text/plain": [
              "   count       word     label   weights\n",
              "0    694        the  Politics  0.020359\n",
              "1    645        the    Sports  0.018409\n",
              "2    422        amp  Politics  0.012380\n",
              "3    348  president  Politics  0.010209\n",
              "4    347    indvaus    Sports  0.009904"
            ]
          },
          "execution_count": 61,
          "metadata": {},
          "output_type": "execute_result"
        }
      ],
      "source": [
        "#create the weight for a word in the whole of the dataset grouped by label\n",
        "df['weights']=df['count']/df.groupby('label')['count'].transform('sum')\n",
        "df.head()"
      ]
    },
    {
      "cell_type": "code",
      "execution_count": 62,
      "metadata": {},
      "outputs": [
        {
          "data": {
            "image/png": "[encoded data removed]",
            "text/plain": [
              "<Figure size 1500x800 with 1 Axes>"
            ]
          },
          "metadata": {},
          "output_type": "display_data"
        }
      ],
      "source": [
        "#plot of weith of each word\n",
        "import matplotlib.pyplot as plt\n",
        "import seaborn as sns\n",
        "sns.set_style('whitegrid')\n",
        "plt.figure(figsize=(15, 8))\n",
        "sns.barplot(x='word', y='weights', hue='label', data=df.head(20))\n",
        "plt.xticks(rotation=90)\n",
        "plt.show()"
      ]
    },
    {
      "cell_type": "markdown",
      "metadata": {
        "id": "XgWUXVS-dx1q"
      },
      "source": [
        "# Text Vectorization"
      ]
    },
    {
      "cell_type": "markdown",
      "metadata": {
        "id": "eKL3GVGldx1q"
      },
      "source": [
        "## TF-IDF"
      ]
    },
    {
      "cell_type": "code",
      "execution_count": 63,
      "metadata": {},
      "outputs": [],
      "source": [
        "from sklearn.feature_extraction.text import TfidfVectorizer"
      ]
    },
    {
      "cell_type": "code",
      "execution_count": 64,
      "metadata": {
        "id": "3t_Q2wbfdx1q"
      },
      "outputs": [],
      "source": [
        "# Convert list elements to strings and then apply TF-IDF vectorizer\n",
        "tfidfconverter = TfidfVectorizer(max_features=1000, min_df=5, max_df=0.7)\n",
        "X = tfidfconverter.fit_transform(train['TweetText'].apply(' '.join))\n",
        "y = train['Label']"
      ]
    },
    {
      "cell_type": "markdown",
      "metadata": {},
      "source": [
        "## first model : Logistic Regression"
      ]
    },
    {
      "cell_type": "code",
      "execution_count": 65,
      "metadata": {
        "colab": {
          "base_uri": "https://localhost:8080/",
          "height": 75
        },
        "id": "AVrk6ptI-aoG",
        "outputId": "9df4a89b-191c-4d8e-f8a4-f1d79f6b0b8f"
      },
      "outputs": [
        {
          "data": {
            "text/html": [
              "<style>#sk-container-id-2 {color: black;background-color: white;}#sk-container-id-2 pre{padding: 0;}#sk-container-id-2 div.sk-toggleable {background-color: white;}#sk-container-id-2 label.sk-toggleable__label {cursor: pointer;display: block;width: 100%;margin-bottom: 0;padding: 0.3em;box-sizing: border-box;text-align: center;}#sk-container-id-2 label.sk-toggleable__label-arrow:before {content: \"▸\";float: left;margin-right: 0.25em;color: #696969;}#sk-container-id-2 label.sk-toggleable__label-arrow:hover:before {color: black;}#sk-container-id-2 div.sk-estimator:hover label.sk-toggleable__label-arrow:before {color: black;}#sk-container-id-2 div.sk-toggleable__content {max-height: 0;max-width: 0;overflow: hidden;text-align: left;background-color: #f0f8ff;}#sk-container-id-2 div.sk-toggleable__content pre {margin: 0.2em;color: black;border-radius: 0.25em;background-color: #f0f8ff;}#sk-container-id-2 input.sk-toggleable__control:checked~div.sk-toggleable__content {max-height: 200px;max-width: 100%;overflow: auto;}#sk-container-id-2 input.sk-toggleable__control:checked~label.sk-toggleable__label-arrow:before {content: \"▾\";}#sk-container-id-2 div.sk-estimator input.sk-toggleable__control:checked~label.sk-toggleable__label {background-color: #d4ebff;}#sk-container-id-2 div.sk-label input.sk-toggleable__control:checked~label.sk-toggleable__label {background-color: #d4ebff;}#sk-container-id-2 input.sk-hidden--visually {border: 0;clip: rect(1px 1px 1px 1px);clip: rect(1px, 1px, 1px, 1px);height: 1px;margin: -1px;overflow: hidden;padding: 0;position: absolute;width: 1px;}#sk-container-id-2 div.sk-estimator {font-family: monospace;background-color: #f0f8ff;border: 1px dotted black;border-radius: 0.25em;box-sizing: border-box;margin-bottom: 0.5em;}#sk-container-id-2 div.sk-estimator:hover {background-color: #d4ebff;}#sk-container-id-2 div.sk-parallel-item::after {content: \"\";width: 100%;border-bottom: 1px solid gray;flex-grow: 1;}#sk-container-id-2 div.sk-label:hover label.sk-toggleable__label {background-color: #d4ebff;}#sk-container-id-2 div.sk-serial::before {content: \"\";position: absolute;border-left: 1px solid gray;box-sizing: border-box;top: 0;bottom: 0;left: 50%;z-index: 0;}#sk-container-id-2 div.sk-serial {display: flex;flex-direction: column;align-items: center;background-color: white;padding-right: 0.2em;padding-left: 0.2em;position: relative;}#sk-container-id-2 div.sk-item {position: relative;z-index: 1;}#sk-container-id-2 div.sk-parallel {display: flex;align-items: stretch;justify-content: center;background-color: white;position: relative;}#sk-container-id-2 div.sk-item::before, #sk-container-id-2 div.sk-parallel-item::before {content: \"\";position: absolute;border-left: 1px solid gray;box-sizing: border-box;top: 0;bottom: 0;left: 50%;z-index: -1;}#sk-container-id-2 div.sk-parallel-item {display: flex;flex-direction: column;z-index: 1;position: relative;background-color: white;}#sk-container-id-2 div.sk-parallel-item:first-child::after {align-self: flex-end;width: 50%;}#sk-container-id-2 div.sk-parallel-item:last-child::after {align-self: flex-start;width: 50%;}#sk-container-id-2 div.sk-parallel-item:only-child::after {width: 0;}#sk-container-id-2 div.sk-dashed-wrapped {border: 1px dashed gray;margin: 0 0.4em 0.5em 0.4em;box-sizing: border-box;padding-bottom: 0.4em;background-color: white;}#sk-container-id-2 div.sk-label label {font-family: monospace;font-weight: bold;display: inline-block;line-height: 1.2em;}#sk-container-id-2 div.sk-label-container {text-align: center;}#sk-container-id-2 div.sk-container {/* jupyter's `normalize.less` sets `[hidden] { display: none; }` but bootstrap.min.css set `[hidden] { display: none !important; }` so we also need the `!important` here to be able to override the default hidden behavior on the sphinx rendered scikit-learn.org. See: https://github.com/scikit-learn/scikit-learn/issues/21755 */display: inline-block !important;position: relative;}#sk-container-id-2 div.sk-text-repr-fallback {display: none;}</style><div id=\"sk-container-id-2\" class=\"sk-top-container\"><div class=\"sk-text-repr-fallback\"><pre>LogisticRegression()</pre><b>In a Jupyter environment, please rerun this cell to show the HTML representation or trust the notebook. <br />On GitHub, the HTML representation is unable to render, please try loading this page with nbviewer.org.</b></div><div class=\"sk-container\" hidden><div class=\"sk-item\"><div class=\"sk-estimator sk-toggleable\"><input class=\"sk-toggleable__control sk-hidden--visually\" id=\"sk-estimator-id-2\" type=\"checkbox\" checked><label for=\"sk-estimator-id-2\" class=\"sk-toggleable__label sk-toggleable__label-arrow\">LogisticRegression</label><div class=\"sk-toggleable__content\"><pre>LogisticRegression()</pre></div></div></div></div></div>"
            ],
            "text/plain": [
              "LogisticRegression()"
            ]
          },
          "execution_count": 65,
          "metadata": {},
          "output_type": "execute_result"
        }
      ],
      "source": [
        "from sklearn.linear_model import LogisticRegression\n",
        "\n",
        "# Initialize the classifier\n",
        "classifier = LogisticRegression()\n",
        "\n",
        "# Train the classifier\n",
        "classifier.fit(X, y)"
      ]
    },
    {
      "cell_type": "code",
      "execution_count": 66,
      "metadata": {
        "colab": {
          "base_uri": "https://localhost:8080/"
        },
        "id": "nXcSgNEF-lJe",
        "outputId": "3dc0fb74-171c-4c6e-e8fd-c9aaa39a3d72"
      },
      "outputs": [
        {
          "name": "stdout",
          "output_type": "stream",
          "text": [
            "0.9420689655172414\n"
          ]
        }
      ],
      "source": [
        "from sklearn.metrics import accuracy_score\n",
        "y_train_pred = classifier.predict(X)\n",
        "# Calculate training accuracy\n",
        "training_accuracy = accuracy_score(y, y_train_pred)\n",
        "print(training_accuracy)"
      ]
    },
    {
      "cell_type": "markdown",
      "metadata": {},
      "source": [
        "## second model : XGBOOST"
      ]
    },
    {
      "cell_type": "code",
      "execution_count": 67,
      "metadata": {},
      "outputs": [
        {
          "ename": "ModuleNotFoundError",
          "evalue": "No module named 'xgboost'",
          "output_type": "error",
          "traceback": [
            "\u001b[0;31m---------------------------------------------------------------------------\u001b[0m",
            "\u001b[0;31mModuleNotFoundError\u001b[0m                       Traceback (most recent call last)",
            "Cell \u001b[0;32mIn[67], line 1\u001b[0m\n\u001b[0;32m----> 1\u001b[0m \u001b[38;5;28;01mimport\u001b[39;00m \u001b[38;5;21;01mxgboost\u001b[39;00m \u001b[38;5;28;01mas\u001b[39;00m \u001b[38;5;21;01mxgb\u001b[39;00m\n",
            "\u001b[0;31mModuleNotFoundError\u001b[0m: No module named 'xgboost'"
          ]
        }
      ],
      "source": [
        "import xgboost as xgb"
      ]
    },
    {
      "cell_type": "code",
      "execution_count": null,
      "metadata": {
        "colab": {
          "base_uri": "https://localhost:8080/"
        },
        "id": "oAeiqzKU_RQP",
        "outputId": "0964a192-53e3-43fd-bc43-b6d0ebea53b9"
      },
      "outputs": [
        {
          "ename": "ModuleNotFoundError",
          "evalue": "No module named 'xgboost'",
          "output_type": "error",
          "traceback": [
            "\u001b[0;31m---------------------------------------------------------------------------\u001b[0m",
            "\u001b[0;31mModuleNotFoundError\u001b[0m                       Traceback (most recent call last)",
            "Cell \u001b[0;32mIn[33], line 1\u001b[0m\n\u001b[0;32m----> 1\u001b[0m \u001b[38;5;28;01mimport\u001b[39;00m \u001b[38;5;21;01mxgboost\u001b[39;00m \u001b[38;5;28;01mas\u001b[39;00m \u001b[38;5;21;01mxgb\u001b[39;00m\n\u001b[1;32m      2\u001b[0m \u001b[38;5;28;01mfrom\u001b[39;00m \u001b[38;5;21;01msklearn\u001b[39;00m\u001b[38;5;21;01m.\u001b[39;00m\u001b[38;5;21;01mmetrics\u001b[39;00m \u001b[38;5;28;01mimport\u001b[39;00m accuracy_score\n\u001b[1;32m      3\u001b[0m \u001b[38;5;28;01mfrom\u001b[39;00m \u001b[38;5;21;01msklearn\u001b[39;00m\u001b[38;5;21;01m.\u001b[39;00m\u001b[38;5;21;01mpreprocessing\u001b[39;00m \u001b[38;5;28;01mimport\u001b[39;00m LabelEncoder\n",
            "\u001b[0;31mModuleNotFoundError\u001b[0m: No module named 'xgboost'"
          ]
        }
      ],
      "source": [
        "import xgboost as xgb\n",
        "from sklearn.metrics import accuracy_score\n",
        "from sklearn.preprocessing import LabelEncoder\n",
        "# Initialize LabelEncoder\n",
        "label_encoder = LabelEncoder()\n",
        "\n",
        "# Fit and transform the Label column\n",
        "train['Label_Encoded'] = label_encoder.fit_transform(train['Label'])\n",
        "\n",
        "# Map Sports to 0 and Politics to 1\n",
        "train['Label_Encoded'] = train['Label_Encoded'].map({0: 0, 1: 1})\n",
        "y=train['Label_Encoded']\n",
        "# Train XGBoost classifier\n",
        "xgb_classifier = xgb.XGBClassifier()\n",
        "xgb_classifier.fit(X, y)\n",
        "\n",
        "# Predict on the training data\n",
        "y_train_pred_xgb = xgb_classifier.predict(X)\n",
        "\n",
        "# Calculate training accuracy\n",
        "training_accuracy_xgb = accuracy_score(y, y_train_pred_xgb)\n",
        "print(\"XGBoost Training Accuracy:\", training_accuracy_xgb)\n"
      ]
    }
  ],
  "metadata": {
    "colab": {
      "include_colab_link": true,
      "provenance": []
    },
    "kernelspec": {
      "display_name": "Python 3",
      "language": "python",
      "name": "python3"
    },
    "language_info": {
      "codemirror_mode": {
        "name": "ipython",
        "version": 3
      },
      "file_extension": ".py",
      "mimetype": "text/x-python",
      "name": "python",
      "nbconvert_exporter": "python",
      "pygments_lexer": "ipython3",
      "version": "3.11.3"
    },
    "orig_nbformat": 4
  },
  "nbformat": 4,
  "nbformat_minor": 0
}
